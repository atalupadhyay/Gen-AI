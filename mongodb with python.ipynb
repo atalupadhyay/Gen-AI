{
 "cells": [
  {
   "cell_type": "markdown",
   "metadata": {},
   "source": [
    "# MongoDB with Python: A Comprehensive Tutorial\n",
    "\n",
    "## Table of Contents\n",
    "\n",
    "1.  **Introduction to MongoDB**\n",
    "    *   What is MongoDB and Why Use It?\n",
    "    *   Key Concepts: Documents, Collections, Databases\n",
    "    *   MongoDB vs. Relational Databases\n",
    "    *   Use Cases for MongoDB\n",
    "2.  **Setting Up MongoDB and Python Environment**\n",
    "    *   Installing MongoDB\n",
    "    *   Installing PyMongo (MongoDB Python Driver)\n",
    "    *   Connecting to MongoDB\n",
    "    *   Working with Databases\n",
    "    *   Authentication (if needed)\n",
    "\n",
    "3.  **Basic Operations with MongoDB and PyMongo**\n",
    "    *   Creating and Inserting Documents\n",
    "    *   Finding and Querying Documents\n",
    "    *   Updating Documents\n",
    "    *   Deleting Documents\n",
    "    *   Working with Indexes\n",
    "\n",
    "4.  **Advanced Operations and Features**\n",
    "    *   Working with Aggregations\n",
    "    *   Using Projections for Results\n",
    "    *   Working with Different Data Types\n",
    "    *   Handling Errors and Exceptions\n",
    "    *   Transactions and Atomicity\n",
    "\n",
    "5.  **Hands-On Lab: Building a Data Pipeline with MongoDB**\n",
    "    *   Creating a Data Loading Script\n",
    "    *   Implementing Data Transformation\n",
    "    *   Developing a Retrieval System\n",
    "    *   Testing and Evaluating Performance\n",
    "\n",
    "6.  **Challenges, Best Practices, and Future Directions**\n",
    "    *   Scalability and Performance Optimization\n",
    "    *   Security Considerations\n",
    "    *   Schema Design and Data Modeling\n",
    "    *   Future Trends and Integration with AI/ML\n",
    "\n",
    "\n",
    "# MongoDB with Python: A Comprehensive Tutorial\n",
    "\n",
    "## 1. Introduction to MongoDB\n",
    "\n",
    "### 1.1 What is MongoDB and Why Use It?\n",
    "\n",
    "*   **Definition:** MongoDB is a popular, open-source, document-oriented database system.\n",
    "*   **Key Characteristics:**\n",
    "    *   **Document-Oriented:** It stores data in flexible, JSON-like documents, which allow for schema less storage, where data is stored as key value pairs.\n",
    "    *   **NoSQL Database:** Does not use a traditional relational database model, and does not use SQL for querying.\n",
    "    *   **Scalable:** Designed to be highly scalable and to handle large volumes of data.\n",
    "    *   **Flexible:** Allows for flexible and dynamic data schemas that can easily adapt to new types of data.\n",
    "    *   **Performance:** Optimized for read and write performance for managing large datasets.\n",
    "    *  **Schema-less:** No predefined data schema is required, which allows for a more flexible data organization.\n",
    "    *   **Easy to Use:** It provides an API that is simpler to use than relational databases.\n",
    "    *   **Open Source:** It is open source and has a very large and active community.\n",
    "*   **Why Use MongoDB?**\n",
    "    *   **Handling Unstructured Data:** Ideal for storing and managing unstructured or semi-structured data like text, images, videos, or other types of documents.\n",
    "    *   **Scalability:** Designed to handle large datasets and high traffic loads, which is ideal for modern applications that need to handle large data volumes.\n",
    "    *  **Agile Development:** Provides more flexibility and simplifies data management, which makes it more useful for agile projects where the data requirements may change over time.\n",
    "    *   **Performance:** Provides good performance for both read and write operations, and also for indexing and searching in large collections of data.\n",
    "    *  **JSON Data Format:** Uses JSON like documents which can be easily mapped to data types that are used in web applications.\n",
    "    *   **Schema Flexibility:** The schema less nature of the documents makes it more flexible for changes and more suitable for new and innovative applications.\n",
    "    *   **Developer Productivity:** Simplifies data operations, reduces the need for complex database design and implementation, and has an API that is simpler and easier to understand than traditional relational database systems.\n",
    "\n",
    "### 1.2 Key Concepts: Documents, Collections, Databases\n",
    "\n",
    "*   **Documents:**\n",
    "    *   **Definition:** The basic unit of data in MongoDB, which are stored using a JSON-like format, using key-value pairs that can be of any supported data type (string, numbers, arrays, objects, etc.).\n",
    "    *  **Properties:** Documents are schema-less, which means that they do not need a predefined data structure, and different documents in the same collection can have different types of data, making them more flexible and easier to maintain.\n",
    "*   **Collections:**\n",
    "    *  **Definition:** A group of similar documents, which can be compared to tables in relational databases.\n",
    "    *  **Properties:** Documents are not required to have any predefined structure, or to follow a rigid data format.\n",
    "*   **Databases:**\n",
    "    *  **Definition:** A container for storing collections of documents, and their associated indexes, data structures, and configurations.\n",
    "    *   **Properties:** A single MongoDB instance can host multiple databases.\n",
    "\n",
    "### 1.3 MongoDB vs. Relational Databases\n",
    "\n",
    "*  **MongoDB (NoSQL):**\n",
    "   *   **Data Model:** Document-oriented, schema-less.\n",
    "   *   **Query Language:** Uses MongoDB query language, which is a JSON-like structure, instead of SQL.\n",
    "   *   **Scalability:** Designed to scale horizontally, by adding more servers.\n",
    "   *   **Flexibility:** Designed for applications that need to store unstructured or semi-structured data, and that require flexibility and fast development cycles.\n",
    "   *   **Data Structure:** Data is stored as JSON like documents, which makes it much more flexible to use for data processing tasks.\n",
    "*   **Relational Databases (SQL):**\n",
    "    *   **Data Model:** Relational, uses structured tables with rows and columns.\n",
    "    *   **Query Language:** Uses SQL (Structured Query Language) to query and manage data.\n",
    "    *   **Scalability:** Typically scales vertically, by using more powerful machines.\n",
    "    *   **Flexibility:** Designed for structured data with predefined data schemas, and requires a strict data structure to be defined in advance, which makes it less suitable for unstructured data or applications that require more flexibility.\n",
    "    *   **Data Structure:** Data is structured in rigid tables with predefined columns, and a predefined data type.\n",
    "\n",
    "*  **Key Differences:**\n",
    "    *   **Data Structure:** MongoDB stores data in a flexible format (JSON like) and relational databases in rigid tables.\n",
    "    *   **Schema:** MongoDB is schema-less; relational databases require predefined schemas.\n",
    "    *   **Query Language:** MongoDB uses a flexible query language (JSON), while relational databases use SQL.\n",
    "    *   **Scalability:** MongoDB scales horizontally, while relational databases usually scale vertically.\n",
    "    *   **Use Cases:** MongoDB is better suited for unstructured data, and for agile development cycles, while SQL databases are better for applications that have structured data.\n",
    "\n",
    "### 1.4 Use Cases for MongoDB\n",
    "\n",
    "MongoDB is very powerful and is used in many different types of applications, like:\n",
    "\n",
    "*   **Content Management Systems (CMS):** For managing large amounts of dynamic and unstructured content.\n",
    "*   **E-commerce Platforms:** For storing product catalogs, customer data, and order information.\n",
    "*   **Mobile Applications:** For storing data for mobile apps that need fast access to different types of information.\n",
    "*   **Social Media Platforms:** For storing unstructured text, image and video data, that can grow very quickly.\n",
    "*   **Internet of Things (IoT):** For capturing and managing the data from sensors, and other smart devices.\n",
    "*   **Gaming Platforms:** For storing player profiles, game state, and other dynamic information.\n",
    "*   **Big Data Analytics:** For capturing, storing and processing large amounts of data in many different types of data analytics tasks.\n",
    "*   **Real-time Data Processing:** For real time analytics, and processing of live user data, and events that need to be processed and stored with a high performance system.\n",
    "\n",
    "This introduction should provide you with the basic understanding of what is MongoDB, how it works, and why it is used in many different types of modern applications. In the next sections, you will start learning how to set up and use MongoDB by using Python.\n",
    "\n",
    "\n",
    "Okay, let's move on to the second section: \"Setting Up MongoDB and Python Environment\". This will cover installing MongoDB, PyMongo, connecting to MongoDB, working with databases, and authentication.\n",
    "\n",
    "\n",
    "\n",
    "# MongoDB with Python: A Comprehensive Tutorial\n",
    "\n",
    "## 2. Setting Up MongoDB and Python Environment\n",
    "\n",
    "### 2.1 Installing MongoDB\n",
    "\n",
    "*   **Installation Guide:**\n",
    "    *   You’ll need to install MongoDB on your system. You can download the Community Server version from the official MongoDB website, and follow the installation instructions for your Operating System: [https://www.mongodb.com/try/download/community](https://www.mongodb.com/try/download/community).\n",
    "    *   For a simpler way of using MongoDB, you can also use MongoDB Atlas, which is a cloud version of MongoDB, that can be used by using a free account, and can be accessed by using its connection string, from your code. [https://www.mongodb.com/cloud/atlas](https://www.mongodb.com/cloud/atlas)\n",
    "    *   Follow the installation guide that is specific for your OS, and make sure that you have MongoDB running on your system before trying the code snippets in this tutorial.\n",
    "*   **MongoDB Shell:**\n",
    "    *   The MongoDB shell (`mongo`) is a command-line interface that you can use to interact directly with MongoDB server.\n",
    "    *   You can open the mongo shell by using the `mongo` command, in your console or terminal, and try some of the basic commands to familiarize yourself with the system.\n",
    "    *   The `show dbs` command will show the current list of databases, and the command `use <database_name>` will switch the context to another database.\n",
    "\n",
    "### 2.2 Installing PyMongo (MongoDB Python Driver)\n",
    "\n",
    "*   **PyMongo:** A driver that allows you to connect and to use MongoDB using the Python programming language.\n",
    "*   **Installation:** You can easily install PyMongo using pip:\n"
   ]
  },
  {
   "cell_type": "code",
   "execution_count": 49,
   "metadata": {},
   "outputs": [
    {
     "name": "stdout",
     "output_type": "stream",
     "text": [
      "Defaulting to user installation because normal site-packages is not writeable\n",
      "Requirement already satisfied: pymongo in c:\\users\\dell\\appdata\\local\\packages\\pythonsoftwarefoundation.python.3.12_qbz5n2kfra8p0\\localcache\\local-packages\\python312\\site-packages (4.10.1)\n",
      "Requirement already satisfied: dnspython<3.0.0,>=1.16.0 in c:\\users\\dell\\appdata\\local\\packages\\pythonsoftwarefoundation.python.3.12_qbz5n2kfra8p0\\localcache\\local-packages\\python312\\site-packages (from pymongo) (2.7.0)\n"
     ]
    }
   ],
   "source": [
    "# Installation of pymongo driver\n",
    "!pip install pymongo"
   ]
  },
  {
   "cell_type": "markdown",
   "metadata": {},
   "source": [
    "### 2.3 Connecting to MongoDB\n",
    "\n",
    "Let's start by connecting to a MongoDB server from Python by using PyMongo, by using the connection string, and creating a client that will be used for all database operations:\n"
   ]
  },
  {
   "cell_type": "code",
   "execution_count": 50,
   "metadata": {},
   "outputs": [
    {
     "name": "stdout",
     "output_type": "stream",
     "text": [
      "Connection successful\n"
     ]
    }
   ],
   "source": [
    "from pymongo import MongoClient\n",
    "\n",
    "# replace with your connection string if you are using mongo atlas, or a local server running on a different port or machine.\n",
    "connection_string = \"mongodb://localhost:27017/\"\n",
    "\n",
    "# Create a mongo client object\n",
    "try:\n",
    "    client = MongoClient(connection_string)\n",
    "    print (\"Connection successful\")\n",
    "except Exception as e:\n",
    "    print (f\"Error connecting to MongoDB: {e}\")"
   ]
  },
  {
   "cell_type": "markdown",
   "metadata": {},
   "source": [
    "### 2.4 Working with Databases\n",
    "\n",
    "Now, let's create and connect to a specific database, by creating a database object, that you will use in the future sections.\n"
   ]
  },
  {
   "cell_type": "code",
   "execution_count": 51,
   "metadata": {},
   "outputs": [
    {
     "name": "stdout",
     "output_type": "stream",
     "text": [
      "Database: mydatabase\n",
      "List of available databases: ['admin', 'config', 'local', 'mydatabase']\n"
     ]
    }
   ],
   "source": [
    "# Define a database name, replace if with a database of your choice.\n",
    "db_name = \"mydatabase\"\n",
    "\n",
    "# Create or get an existing database\n",
    "db = client[db_name]\n",
    "print (f\"Database: {db.name}\")\n",
    "\n",
    "# Verify if database was correctly created by printing a list of available database\n",
    "print(f\"List of available databases: {client.list_database_names()}\")"
   ]
  },
  {
   "cell_type": "markdown",
   "metadata": {},
   "source": [
    "### 2.5 Authentication (if needed)\n",
    "\n",
    "If your database needs authentication, you will need to provide credentials on the connection string:\n"
   ]
  },
  {
   "cell_type": "code",
   "execution_count": 52,
   "metadata": {},
   "outputs": [],
   "source": [
    "# Example for authentication:\n",
    "# Replace with your real username, password and cluster name (if using MongoDB Atlas)\n",
    "#connection_string_with_auth = \"mongodb+srv://<username>:<password>@<clustername>.mongodb.net/?retryWrites=true&w=majority\"\n",
    "#client = MongoClient(connection_string_with_auth)"
   ]
  },
  {
   "cell_type": "markdown",
   "metadata": {},
   "source": [
    "*   **Security:** Always keep sensitive data like usernames and passwords secure and do not add them directly in code, specially if it will be committed to a version control system. It is better to use environment variables or other secure methods for managing credentials.\n",
    "\n",
    "This section covered the basic steps for setting up your environment, and for creating a connection to your database using PyMongo, which will be essential for the next sections, where you will learn how to add data, query data, and other types of operations.\n",
    "\n",
    "\n",
    "\n",
    "Okay, let's move on to the third section: \"Basic Operations with MongoDB and PyMongo.\" This will cover creating and inserting documents, finding and querying documents, updating, deleting, and working with indexes.\n",
    "\n",
    "\n",
    "\n",
    "\n",
    "# MongoDB with Python: A Comprehensive Tutorial\n",
    "\n",
    "## 3. Basic Operations with MongoDB and PyMongo\n",
    "\n",
    "### 3.1 Creating and Inserting Documents\n",
    "\n",
    "Now, let's create some documents and add them to a collection in our MongoDB database:\n"
   ]
  },
  {
   "cell_type": "code",
   "execution_count": 53,
   "metadata": {},
   "outputs": [
    {
     "name": "stdout",
     "output_type": "stream",
     "text": [
      "Successfully inserted 5 documents.\n",
      "Inserted IDs: [ObjectId('679652230e71066b1e313b1b'), ObjectId('679652230e71066b1e313b1c'), ObjectId('679652230e71066b1e313b1d'), ObjectId('679652230e71066b1e313b1e'), ObjectId('679652230e71066b1e313b1f')]\n"
     ]
    }
   ],
   "source": [
    "from pymongo import MongoClient\n",
    "\n",
    "# Set up connection (replace with your details)\n",
    "connection_string = \"mongodb://localhost:27017/\"\n",
    "client = MongoClient(connection_string)\n",
    "db_name = \"mydatabase\"\n",
    "db = client[db_name]\n",
    "\n",
    "# Create a collection (like a table in SQL) or get an existing one\n",
    "collection_name = \"mycollection\"\n",
    "collection = db[collection_name]\n",
    "\n",
    "# Sample data\n",
    "documents_to_insert = [\n",
    "    {\"name\": \"Apple\", \"color\": \"red\", \"price\": 1.2, \"category\":\"fruit\"},\n",
    "    {\"name\": \"Banana\", \"color\": \"yellow\", \"price\": 0.8, \"category\":\"fruit\"},\n",
    "    {\"name\": \"Carrot\", \"color\": \"orange\", \"price\": 0.5, \"category\":\"vegetable\"},\n",
    "    {\"name\": \"Laptop\", \"brand\": \"Dell\", \"price\": 1200, \"category\":\"electronics\"},\n",
    "    {\"name\": \"Headphones\", \"brand\": \"Sony\", \"price\": 150, \"category\":\"electronics\"}\n",
    "]\n",
    "\n",
    "# Insert multiple documents into the collection\n",
    "try:\n",
    "  result = collection.insert_many(documents_to_insert)\n",
    "  inserted_ids = result.inserted_ids\n",
    "  print(f\"Successfully inserted {len(inserted_ids)} documents.\")\n",
    "  print(f\"Inserted IDs: {inserted_ids}\")\n",
    "except Exception as e:\n",
    "    print (f\"Error inserting documents: {e}\")"
   ]
  },
  {
   "cell_type": "markdown",
   "metadata": {},
   "source": [
    "### 3.2 Finding and Querying Documents\n",
    "\n",
    "Let's explore how to find documents in a MongoDB collection by using different types of queries:\n"
   ]
  },
  {
   "cell_type": "code",
   "execution_count": null,
   "metadata": {},
   "outputs": [
    {
     "name": "stdout",
     "output_type": "stream",
     "text": [
      "All Documents:\n",
      "{'_id': ObjectId('67964dfc0e71066b1e313af9'), 'name': 'Laptop', 'brand': 'Dell', 'price': 1310, 'category': 'electronics'}\n",
      "{'_id': ObjectId('67964dfc0e71066b1e313afa'), 'name': 'Headphones', 'brand': 'Sony', 'price': 170, 'category': 'electronics'}\n",
      "{'_id': ObjectId('679650ef0e71066b1e313b01'), 'name': 'Smartphone', 'brand': 'Samsung', 'price': 900.0, 'features': ['camera', 'touchscreen', '5G'], 'release_date': '2024-06-10', 'in_stock': True, 'dimensions': {'height': 15, 'width': 7, 'depth': 0.8}}\n",
      "{'_id': ObjectId('679651f30e71066b1e313b0a'), 'name': 'Laptop', 'brand': 'Dell', 'price': 1220, 'category': 'electronics'}\n",
      "{'_id': ObjectId('679651f30e71066b1e313b0b'), 'name': 'Headphones', 'brand': 'Sony', 'price': 170, 'category': 'electronics'}\n",
      "{'_id': ObjectId('679651f40e71066b1e313b0d'), 'name': 'Smartphone', 'brand': 'Samsung', 'price': 900.0, 'features': ['camera', 'touchscreen', '5G'], 'release_date': '2024-06-10', 'in_stock': True, 'dimensions': {'height': 15, 'width': 7, 'depth': 0.8}}\n",
      "{'_id': ObjectId('679652120e71066b1e313b12'), 'name': 'Carrot', 'color': 'orange', 'price': 0.5, 'category': 'vegetable'}\n",
      "{'_id': ObjectId('679652120e71066b1e313b13'), 'name': 'Laptop', 'brand': 'Dell', 'price': 1210, 'category': 'electronics'}\n",
      "{'_id': ObjectId('679652120e71066b1e313b14'), 'name': 'Headphones', 'brand': 'Sony', 'price': 160, 'category': 'electronics'}\n",
      "{'_id': ObjectId('679652120e71066b1e313b16'), 'name': 'Smartphone', 'brand': 'Samsung', 'price': 900.0, 'features': ['camera', 'touchscreen', '5G'], 'release_date': '2024-06-10', 'in_stock': True, 'dimensions': {'height': 15, 'width': 7, 'depth': 0.8}}\n",
      "{'_id': ObjectId('679652230e71066b1e313b1b'), 'name': 'Apple', 'color': 'red', 'price': 1.2, 'category': 'fruit'}\n",
      "{'_id': ObjectId('679652230e71066b1e313b1c'), 'name': 'Banana', 'color': 'yellow', 'price': 0.8, 'category': 'fruit'}\n",
      "{'_id': ObjectId('679652230e71066b1e313b1d'), 'name': 'Carrot', 'color': 'orange', 'price': 0.5, 'category': 'vegetable'}\n",
      "{'_id': ObjectId('679652230e71066b1e313b1e'), 'name': 'Laptop', 'brand': 'Dell', 'price': 1200, 'category': 'electronics'}\n",
      "{'_id': ObjectId('679652230e71066b1e313b1f'), 'name': 'Headphones', 'brand': 'Sony', 'price': 150, 'category': 'electronics'}\n",
      "\n",
      "Fruits:\n",
      "{'_id': ObjectId('679652230e71066b1e313b1b'), 'name': 'Apple', 'color': 'red', 'price': 1.2, 'category': 'fruit'}\n",
      "{'_id': ObjectId('679652230e71066b1e313b1c'), 'name': 'Banana', 'color': 'yellow', 'price': 0.8, 'category': 'fruit'}\n",
      "\n",
      "Items with price above 100:\n",
      "{'_id': ObjectId('67964dfc0e71066b1e313af9'), 'name': 'Laptop', 'brand': 'Dell', 'price': 1310, 'category': 'electronics'}\n",
      "{'_id': ObjectId('67964dfc0e71066b1e313afa'), 'name': 'Headphones', 'brand': 'Sony', 'price': 170, 'category': 'electronics'}\n",
      "{'_id': ObjectId('679650ef0e71066b1e313b01'), 'name': 'Smartphone', 'brand': 'Samsung', 'price': 900.0, 'features': ['camera', 'touchscreen', '5G'], 'release_date': '2024-06-10', 'in_stock': True, 'dimensions': {'height': 15, 'width': 7, 'depth': 0.8}}\n",
      "{'_id': ObjectId('679651f30e71066b1e313b0a'), 'name': 'Laptop', 'brand': 'Dell', 'price': 1220, 'category': 'electronics'}\n",
      "{'_id': ObjectId('679651f30e71066b1e313b0b'), 'name': 'Headphones', 'brand': 'Sony', 'price': 170, 'category': 'electronics'}\n",
      "{'_id': ObjectId('679651f40e71066b1e313b0d'), 'name': 'Smartphone', 'brand': 'Samsung', 'price': 900.0, 'features': ['camera', 'touchscreen', '5G'], 'release_date': '2024-06-10', 'in_stock': True, 'dimensions': {'height': 15, 'width': 7, 'depth': 0.8}}\n",
      "{'_id': ObjectId('679652120e71066b1e313b13'), 'name': 'Laptop', 'brand': 'Dell', 'price': 1210, 'category': 'electronics'}\n",
      "{'_id': ObjectId('679652120e71066b1e313b14'), 'name': 'Headphones', 'brand': 'Sony', 'price': 160, 'category': 'electronics'}\n",
      "{'_id': ObjectId('679652120e71066b1e313b16'), 'name': 'Smartphone', 'brand': 'Samsung', 'price': 900.0, 'features': ['camera', 'touchscreen', '5G'], 'release_date': '2024-06-10', 'in_stock': True, 'dimensions': {'height': 15, 'width': 7, 'depth': 0.8}}\n",
      "{'_id': ObjectId('679652230e71066b1e313b1e'), 'name': 'Laptop', 'brand': 'Dell', 'price': 1200, 'category': 'electronics'}\n",
      "{'_id': ObjectId('679652230e71066b1e313b1f'), 'name': 'Headphones', 'brand': 'Sony', 'price': 150, 'category': 'electronics'}\n",
      "\n",
      "Document with a specific ID:\n",
      "{'_id': ObjectId('679652230e71066b1e313b1b'), 'name': 'Apple', 'color': 'red', 'price': 1.2, 'category': 'fruit'}\n"
     ]
    }
   ],
   "source": [
    "# Find all documents in the collection\n",
    "all_documents = list(collection.find())\n",
    "print(\"All Documents:\")\n",
    "for doc in all_documents:\n",
    "    print(doc)\n",
    "\n",
    "# Find documents that match a specific condition\n",
    "query = {\"category\": \"fruit\"}\n",
    "filtered_documents = list(collection.find(query))\n",
    "print (\"\\nFruits:\")\n",
    "for doc in filtered_documents:\n",
    "   print (doc)\n",
    "\n",
    "# Find documents with a price above a specific value:\n",
    "query = {\"price\": {\"$gt\": 100}}\n",
    "filtered_documents = list(collection.find(query))\n",
    "print(\"\\nItems with price above 100:\")\n",
    "for doc in filtered_documents:\n",
    "    print(doc)\n",
    "\n",
    "# Find specific document with an id\n",
    "from bson.objectid import ObjectId\n",
    "document_id =  list(collection.find({\"name\": \"Apple\"}))[0][\"_id\"]\n",
    "query = {\"_id\": ObjectId(document_id)}\n",
    "filtered_documents = list(collection.find(query))\n",
    "print(\"\\nDocument with a specific ID:\")\n",
    "for doc in filtered_documents:\n",
    "    print(doc)"
   ]
  },
  {
   "cell_type": "markdown",
   "metadata": {},
   "source": [
    "### 3.3 Updating Documents\n",
    "\n",
    "To update a document we use the `update_one` or `update_many` methods. Let’s change the price of an item.\n"
   ]
  },
  {
   "cell_type": "code",
   "execution_count": null,
   "metadata": {},
   "outputs": [
    {
     "name": "stdout",
     "output_type": "stream",
     "text": [
      "Updated document, updated: 1 documents.\n",
      "\n",
      "Updated laptop document:\n",
      "{'_id': ObjectId('67964dfc0e71066b1e313af9'), 'name': 'Laptop', 'brand': 'Dell', 'price': 1300, 'category': 'electronics'}\n",
      "{'_id': ObjectId('679651f30e71066b1e313b0a'), 'name': 'Laptop', 'brand': 'Dell', 'price': 1220, 'category': 'electronics'}\n",
      "{'_id': ObjectId('679652120e71066b1e313b13'), 'name': 'Laptop', 'brand': 'Dell', 'price': 1210, 'category': 'electronics'}\n",
      "{'_id': ObjectId('679652230e71066b1e313b1e'), 'name': 'Laptop', 'brand': 'Dell', 'price': 1200, 'category': 'electronics'}\n",
      "Updated multiple documents, modified: 8 documents.\n",
      "\n",
      "Updated electronic items:\n",
      "{'_id': ObjectId('67964dfc0e71066b1e313af9'), 'name': 'Laptop', 'brand': 'Dell', 'price': 1310, 'category': 'electronics'}\n",
      "{'_id': ObjectId('67964dfc0e71066b1e313afa'), 'name': 'Headphones', 'brand': 'Sony', 'price': 180, 'category': 'electronics'}\n",
      "{'_id': ObjectId('679651f30e71066b1e313b0a'), 'name': 'Laptop', 'brand': 'Dell', 'price': 1230, 'category': 'electronics'}\n",
      "{'_id': ObjectId('679651f30e71066b1e313b0b'), 'name': 'Headphones', 'brand': 'Sony', 'price': 180, 'category': 'electronics'}\n",
      "{'_id': ObjectId('679652120e71066b1e313b13'), 'name': 'Laptop', 'brand': 'Dell', 'price': 1220, 'category': 'electronics'}\n",
      "{'_id': ObjectId('679652120e71066b1e313b14'), 'name': 'Headphones', 'brand': 'Sony', 'price': 170, 'category': 'electronics'}\n",
      "{'_id': ObjectId('679652230e71066b1e313b1e'), 'name': 'Laptop', 'brand': 'Dell', 'price': 1210, 'category': 'electronics'}\n",
      "{'_id': ObjectId('679652230e71066b1e313b1f'), 'name': 'Headphones', 'brand': 'Sony', 'price': 160, 'category': 'electronics'}\n"
     ]
    }
   ],
   "source": [
    "# Find a specific document by its name\n",
    "query = {\"name\": \"Laptop\"}\n",
    "# Update the price\n",
    "update_value = {\"$set\": {\"price\": 1300}}\n",
    "result = collection.update_one(query, update_value)\n",
    "print(f\"Updated document, updated: {result.modified_count} documents.\")\n",
    "\n",
    "# check the new value\n",
    "updated_documents = list(collection.find(query))\n",
    "print(\"\\nUpdated laptop document:\")\n",
    "for doc in updated_documents:\n",
    "    print(doc)\n",
    "\n",
    "\n",
    "# Update multiple documents\n",
    "query = {\"category\": \"electronics\"}\n",
    "update_value = {\"$inc\": {\"price\": 10}}\n",
    "result = collection.update_many(query, update_value)\n",
    "print(f\"Updated multiple documents, modified: {result.modified_count} documents.\")\n",
    "\n",
    "#check the new values\n",
    "updated_documents = list(collection.find(query))\n",
    "print(\"\\nUpdated electronic items:\")\n",
    "for doc in updated_documents:\n",
    "    print(doc)"
   ]
  },
  {
   "cell_type": "markdown",
   "metadata": {},
   "source": [
    "### 3.4 Deleting Documents\n",
    "\n",
    "Use the `delete_one` or `delete_many` methods to remove specific documents from a collection:\n"
   ]
  },
  {
   "cell_type": "code",
   "execution_count": 56,
   "metadata": {},
   "outputs": [
    {
     "name": "stdout",
     "output_type": "stream",
     "text": [
      "Deleted one document, deleted count: 1.\n",
      "Deleted multiple documents, deleted count: 2.\n",
      "\n",
      "Documents after deletion:\n",
      "{'_id': ObjectId('67964dfc0e71066b1e313af9'), 'name': 'Laptop', 'brand': 'Dell', 'price': 1310, 'category': 'electronics'}\n",
      "{'_id': ObjectId('67964dfc0e71066b1e313afa'), 'name': 'Headphones', 'brand': 'Sony', 'price': 180, 'category': 'electronics'}\n",
      "{'_id': ObjectId('679650ef0e71066b1e313b01'), 'name': 'Smartphone', 'brand': 'Samsung', 'price': 900.0, 'features': ['camera', 'touchscreen', '5G'], 'release_date': '2024-06-10', 'in_stock': True, 'dimensions': {'height': 15, 'width': 7, 'depth': 0.8}}\n",
      "{'_id': ObjectId('679651f30e71066b1e313b0a'), 'name': 'Laptop', 'brand': 'Dell', 'price': 1230, 'category': 'electronics'}\n",
      "{'_id': ObjectId('679651f30e71066b1e313b0b'), 'name': 'Headphones', 'brand': 'Sony', 'price': 180, 'category': 'electronics'}\n",
      "{'_id': ObjectId('679651f40e71066b1e313b0d'), 'name': 'Smartphone', 'brand': 'Samsung', 'price': 900.0, 'features': ['camera', 'touchscreen', '5G'], 'release_date': '2024-06-10', 'in_stock': True, 'dimensions': {'height': 15, 'width': 7, 'depth': 0.8}}\n",
      "{'_id': ObjectId('679652120e71066b1e313b13'), 'name': 'Laptop', 'brand': 'Dell', 'price': 1220, 'category': 'electronics'}\n",
      "{'_id': ObjectId('679652120e71066b1e313b14'), 'name': 'Headphones', 'brand': 'Sony', 'price': 170, 'category': 'electronics'}\n",
      "{'_id': ObjectId('679652120e71066b1e313b16'), 'name': 'Smartphone', 'brand': 'Samsung', 'price': 900.0, 'features': ['camera', 'touchscreen', '5G'], 'release_date': '2024-06-10', 'in_stock': True, 'dimensions': {'height': 15, 'width': 7, 'depth': 0.8}}\n",
      "{'_id': ObjectId('679652230e71066b1e313b1d'), 'name': 'Carrot', 'color': 'orange', 'price': 0.5, 'category': 'vegetable'}\n",
      "{'_id': ObjectId('679652230e71066b1e313b1e'), 'name': 'Laptop', 'brand': 'Dell', 'price': 1210, 'category': 'electronics'}\n",
      "{'_id': ObjectId('679652230e71066b1e313b1f'), 'name': 'Headphones', 'brand': 'Sony', 'price': 160, 'category': 'electronics'}\n"
     ]
    }
   ],
   "source": [
    "# Delete one document that matches the specific criteria:\n",
    "query = {\"name\": \"Carrot\"}\n",
    "result = collection.delete_one(query)\n",
    "print(f\"Deleted one document, deleted count: {result.deleted_count}.\")\n",
    "\n",
    "# Delete all documents that match the specific criteria:\n",
    "query = {\"category\": \"fruit\"}\n",
    "result = collection.delete_many(query)\n",
    "print(f\"Deleted multiple documents, deleted count: {result.deleted_count}.\")\n",
    "\n",
    "# Check how many documents are left\n",
    "all_documents = list(collection.find())\n",
    "print(\"\\nDocuments after deletion:\")\n",
    "for doc in all_documents:\n",
    "    print(doc)"
   ]
  },
  {
   "cell_type": "markdown",
   "metadata": {},
   "source": [
    "### 3.5 Working with Indexes\n",
    "\n",
    "Let's create an index for the `name` field in the collection, which will be used to improve the performance of queries that search by name, and that will make the database work more efficiently, specially when using large datasets.\n"
   ]
  },
  {
   "cell_type": "code",
   "execution_count": null,
   "metadata": {},
   "outputs": [
    {
     "name": "stdout",
     "output_type": "stream",
     "text": [
      "Created index with name: name_1\n"
     ]
    },
    {
     "name": "stdout",
     "output_type": "stream",
     "text": [
      "\n",
      "Indexes in mycollection: [SON([('v', 2), ('key', SON([('_id', 1)])), ('name', '_id_')]), SON([('v', 2), ('key', SON([('name', 1)])), ('name', 'name_1')])]\n",
      "\n",
      "Index was dropped\n",
      "\n",
      "Indexes in mycollection: [SON([('v', 2), ('key', SON([('_id', 1)])), ('name', '_id_')])]\n"
     ]
    }
   ],
   "source": [
    "# Create an index for the \"name\" field.\n",
    "index_name = collection.create_index(\"name\")\n",
    "print (f\"Created index with name: {index_name}\")\n",
    "\n",
    "# Check if the index exists\n",
    "index_info = list(collection.list_indexes())\n",
    "print (f\"\\nIndexes in {collection_name}: {index_info}\")\n",
    "\n",
    "# Remove the index\n",
    "collection.drop_index(index_name)\n",
    "print (\"\\nIndex was dropped\")\n",
    "\n",
    "# Check if the index is present\n",
    "index_info = list(collection.list_indexes())\n",
    "print (f\"\\nIndexes in {collection_name}: {index_info}\")"
   ]
  },
  {
   "cell_type": "markdown",
   "metadata": {},
   "source": [
    "This section has covered the basic operations of MongoDB using PyMongo, such as inserting, finding, updating, and deleting documents, and also working with indexes to improve performance. In the next sections, you will learn more advanced topics like aggregations, projections, and other interesting features of this database.\n",
    "\n",
    "\n",
    "\n",
    "\n",
    "\n",
    "# MongoDB with Python: A Comprehensive Tutorial\n",
    "\n",
    "## 4. Advanced Operations and Features\n",
    "\n",
    "### 4.1 Working with Aggregations\n",
    "\n",
    "MongoDB's aggregation framework allows you to perform complex data transformations, grouping, and calculations within the database. Let's explore how to use it:\n"
   ]
  },
  {
   "cell_type": "code",
   "execution_count": null,
   "metadata": {},
   "outputs": [
    {
     "name": "stdout",
     "output_type": "stream",
     "text": [
      "\n",
      "Total number of items in each category:\n",
      "{'_id': 'electronics', 'total_items': 8}\n",
      "{'_id': None, 'total_items': 3}\n",
      "{'_id': 'vegetable', 'total_items': 1}\n"
     ]
    }
   ],
   "source": [
    "from pymongo import MongoClient\n",
    "from bson.son import SON\n",
    "\n",
    "# Set up connection (replace with your details)\n",
    "connection_string = \"mongodb://localhost:27017/\"\n",
    "client = MongoClient(connection_string)\n",
    "db_name = \"mydatabase\"\n",
    "db = client[db_name]\n",
    "\n",
    "# Get the existing collection. You must have previously created the data\n",
    "collection_name = \"mycollection\"\n",
    "collection = db[collection_name]\n",
    "\n",
    "# Use an aggregation pipeline for calculating the average price by category\n",
    "# pipeline = [\n",
    "#     {\"$group\": {\"_id\": \"$category\", \"average_price\": {\"$avg\": \"$price\"}}},\n",
    "#     {\"$sort\": {\"average_price\":-1}}\n",
    "# ]\n",
    "# try:\n",
    "#     results = list(collection.aggregate(pipeline))\n",
    "#     print(\"Average price per category:\")\n",
    "#     for item in results:\n",
    "#         print(item)\n",
    "# except Exception as e:\n",
    "#     print(f\"Error performing the aggregation: {e}\")\n",
    "\n",
    "# Find total number of items in every category\n",
    "lst = [\n",
    "    {\"$group\": {\"_id\": \"$category\", \"total_items\": {\"$count\": {}}}},\n",
    "     {\"$sort\": {\"total_items\":-1}}\n",
    "]\n",
    "try:\n",
    "    results = list(collection.aggregate(lst))\n",
    "    print(\"\\nTotal number of items in each category:\")\n",
    "    for item in results:\n",
    "        print(item)\n",
    "except Exception as e:\n",
    "    print(f\"Error performing the aggregation: {e}\")"
   ]
  },
  {
   "cell_type": "markdown",
   "metadata": {},
   "source": [
    "### 4.2 Using Projections for Results\n",
    "\n",
    "Projections are used to select which fields should be included in the results from your queries, which reduces the size of the data being transferred from the database, and may improve overall speed and performance.\n"
   ]
  },
  {
   "cell_type": "code",
   "execution_count": 59,
   "metadata": {},
   "outputs": [
    {
     "name": "stdout",
     "output_type": "stream",
     "text": [
      "\n",
      "Electronic Items (using projection):\n",
      "{'name': 'Laptop', 'price': 1310}\n",
      "{'name': 'Headphones', 'price': 180}\n",
      "{'name': 'Laptop', 'price': 1230}\n",
      "{'name': 'Headphones', 'price': 180}\n",
      "{'name': 'Laptop', 'price': 1220}\n",
      "{'name': 'Headphones', 'price': 170}\n",
      "{'name': 'Laptop', 'price': 1210}\n",
      "{'name': 'Headphones', 'price': 160}\n"
     ]
    }
   ],
   "source": [
    "# Using projection to select only the name and the price for items of the electronic category\n",
    "query = {\"category\": \"electronics\"}\n",
    "projection = {\"name\": 1, \"price\": 1, \"_id\":0}\n",
    "filtered_documents = list(collection.find(query, projection))\n",
    "print (\"\\nElectronic Items (using projection):\")\n",
    "for doc in filtered_documents:\n",
    "    print(doc)"
   ]
  },
  {
   "cell_type": "markdown",
   "metadata": {},
   "source": [
    "### 4.3 Working with Different Data Types\n",
    "\n",
    "MongoDB supports a wide variety of data types, including strings, integers, floats, booleans, dates, arrays, nested objects, and other types, which provide more flexibility when managing and processing different types of data:\n"
   ]
  },
  {
   "cell_type": "code",
   "execution_count": 60,
   "metadata": {},
   "outputs": [
    {
     "name": "stdout",
     "output_type": "stream",
     "text": [
      "Successfully inserted document with id: 679652240e71066b1e313b21\n",
      "\n",
      "Smartphone Document:\n",
      "{'_id': ObjectId('679650ef0e71066b1e313b01'), 'name': 'Smartphone', 'brand': 'Samsung', 'price': 900.0, 'features': ['camera', 'touchscreen', '5G'], 'release_date': '2024-06-10', 'in_stock': True, 'dimensions': {'height': 15, 'width': 7, 'depth': 0.8}}\n",
      "{'_id': ObjectId('679651f40e71066b1e313b0d'), 'name': 'Smartphone', 'brand': 'Samsung', 'price': 900.0, 'features': ['camera', 'touchscreen', '5G'], 'release_date': '2024-06-10', 'in_stock': True, 'dimensions': {'height': 15, 'width': 7, 'depth': 0.8}}\n",
      "{'_id': ObjectId('679652120e71066b1e313b16'), 'name': 'Smartphone', 'brand': 'Samsung', 'price': 900.0, 'features': ['camera', 'touchscreen', '5G'], 'release_date': '2024-06-10', 'in_stock': True, 'dimensions': {'height': 15, 'width': 7, 'depth': 0.8}}\n",
      "{'_id': ObjectId('679652240e71066b1e313b21'), 'name': 'Smartphone', 'brand': 'Samsung', 'price': 900.0, 'features': ['camera', 'touchscreen', '5G'], 'release_date': '2024-06-10', 'in_stock': True, 'dimensions': {'height': 15, 'width': 7, 'depth': 0.8}}\n"
     ]
    }
   ],
   "source": [
    "# Adding a new document with different types of data\n",
    "new_doc = {\n",
    "    \"name\": \"Smartphone\",\n",
    "    \"brand\": \"Samsung\",\n",
    "     \"price\": 900.0,\n",
    "    \"features\": [\"camera\", \"touchscreen\", \"5G\"],\n",
    "    \"release_date\":  \"2024-06-10\",\n",
    "     \"in_stock\": True,\n",
    "      \"dimensions\": {\"height\": 15, \"width\": 7, \"depth\": 0.8}\n",
    "}\n",
    "try:\n",
    "  result = collection.insert_one(new_doc)\n",
    "  print(f\"Successfully inserted document with id: {result.inserted_id}\")\n",
    "except Exception as e:\n",
    "  print(f\"Error inserting document: {e}\")\n",
    "\n",
    "# Find the new document:\n",
    "query = {\"name\": \"Smartphone\"}\n",
    "filtered_documents = list(collection.find(query))\n",
    "print (\"\\nSmartphone Document:\")\n",
    "for doc in filtered_documents:\n",
    "    print(doc)"
   ]
  },
  {
   "cell_type": "markdown",
   "metadata": {},
   "source": [
    "### 4.4 Handling Errors and Exceptions\n",
    "\n",
    "It is very important to implement good error handling when accessing external services, because they may not always work as expected, or there may be problems with network connections, authorization, or other external factors. The use of exceptions will prevent the programs from crashing when problems occur.\n"
   ]
  },
  {
   "cell_type": "code",
   "execution_count": 66,
   "metadata": {},
   "outputs": [
    {
     "name": "stdout",
     "output_type": "stream",
     "text": [
      "Connection successful\n",
      "Database: wrongdatabase\n"
     ]
    }
   ],
   "source": [
    "from pymongo import MongoClient\n",
    "from pymongo.errors import ConnectionFailure\n",
    "\n",
    "# Set up connection with a wrong connection string to force an error\n",
    "connection_string = \"mongodb://wrongaddress:27017/\"\n",
    "\n",
    "# Create a mongo client object, with error handling\n",
    "try:\n",
    "    client = MongoClient(connection_string)\n",
    "    print (\"Connection successful\")\n",
    "    db = client[\"wrongdatabase\"]\n",
    "    print(f\"Database: {db.name}\")\n",
    "except ConnectionFailure as e:\n",
    "    print (f\"Error connecting to MongoDB: {e}\")\n",
    "except Exception as e:\n",
    "    print (f\"Error: {e}\")"
   ]
  },
  {
   "cell_type": "markdown",
   "metadata": {},
   "source": [
    "### 4.5 Transactions and Atomicity\n",
    "\n",
    "MongoDB supports multi-document ACID transactions, which makes it possible to have data consistency when performing changes in multiple parts of the data. This can be very useful when performing operations that are complex and that involve changes in several parts of the database."
   ]
  },
  {
   "cell_type": "code",
   "execution_count": 67,
   "metadata": {},
   "outputs": [
    {
     "name": "stdout",
     "output_type": "stream",
     "text": [
      "Transaction aborted: Transaction numbers are only allowed on a replica set member or mongos, full error: {'ok': 0.0, 'errmsg': 'Transaction numbers are only allowed on a replica set member or mongos', 'code': 20, 'codeName': 'IllegalOperation'}\n"
     ]
    },
    {
     "ename": "InvalidOperation",
     "evalue": "Cannot use ended session",
     "output_type": "error",
     "traceback": [
      "\u001b[1;31m---------------------------------------------------------------------------\u001b[0m",
      "\u001b[1;31mOperationFailure\u001b[0m                          Traceback (most recent call last)",
      "Cell \u001b[1;32mIn[67], line 24\u001b[0m\n\u001b[0;32m     23\u001b[0m \u001b[38;5;66;03m# Update the Laptop price\u001b[39;00m\n\u001b[1;32m---> 24\u001b[0m \u001b[43mcollection\u001b[49m\u001b[38;5;241;43m.\u001b[39;49m\u001b[43mupdate_one\u001b[49m\u001b[43m(\u001b[49m\u001b[43m{\u001b[49m\u001b[38;5;124;43m\"\u001b[39;49m\u001b[38;5;124;43m_id\u001b[39;49m\u001b[38;5;124;43m\"\u001b[39;49m\u001b[43m:\u001b[49m\u001b[43m \u001b[49m\u001b[43mdoc1_id\u001b[49m\u001b[43m}\u001b[49m\u001b[43m,\u001b[49m\u001b[43m \u001b[49m\u001b[43m{\u001b[49m\u001b[38;5;124;43m\"\u001b[39;49m\u001b[38;5;124;43m$set\u001b[39;49m\u001b[38;5;124;43m\"\u001b[39;49m\u001b[43m:\u001b[49m\u001b[43m \u001b[49m\u001b[43m{\u001b[49m\u001b[38;5;124;43m\"\u001b[39;49m\u001b[38;5;124;43mprice\u001b[39;49m\u001b[38;5;124;43m\"\u001b[39;49m\u001b[43m:\u001b[49m\u001b[43m \u001b[49m\u001b[38;5;241;43m1500\u001b[39;49m\u001b[43m}\u001b[49m\u001b[43m}\u001b[49m\u001b[43m,\u001b[49m\u001b[43m \u001b[49m\u001b[43msession\u001b[49m\u001b[38;5;241;43m=\u001b[39;49m\u001b[43msession\u001b[49m\u001b[43m)\u001b[49m\n\u001b[0;32m     25\u001b[0m \u001b[38;5;66;03m# Update Headphones price\u001b[39;00m\n",
      "File \u001b[1;32m~\\AppData\\Local\\Packages\\PythonSoftwareFoundation.Python.3.12_qbz5n2kfra8p0\\LocalCache\\local-packages\\Python312\\site-packages\\pymongo\\synchronous\\collection.py:1312\u001b[0m, in \u001b[0;36mCollection.update_one\u001b[1;34m(self, filter, update, upsert, bypass_document_validation, collation, array_filters, hint, session, let, comment)\u001b[0m\n\u001b[0;32m   1310\u001b[0m write_concern \u001b[38;5;241m=\u001b[39m \u001b[38;5;28mself\u001b[39m\u001b[38;5;241m.\u001b[39m_write_concern_for(session)\n\u001b[0;32m   1311\u001b[0m \u001b[38;5;28;01mreturn\u001b[39;00m UpdateResult(\n\u001b[1;32m-> 1312\u001b[0m     \u001b[38;5;28;43mself\u001b[39;49m\u001b[38;5;241;43m.\u001b[39;49m\u001b[43m_update_retryable\u001b[49m\u001b[43m(\u001b[49m\n\u001b[0;32m   1313\u001b[0m \u001b[43m        \u001b[49m\u001b[38;5;28;43mfilter\u001b[39;49m\u001b[43m,\u001b[49m\n\u001b[0;32m   1314\u001b[0m \u001b[43m        \u001b[49m\u001b[43mupdate\u001b[49m\u001b[43m,\u001b[49m\n\u001b[0;32m   1315\u001b[0m \u001b[43m        \u001b[49m\u001b[43m_Op\u001b[49m\u001b[38;5;241;43m.\u001b[39;49m\u001b[43mUPDATE\u001b[49m\u001b[43m,\u001b[49m\n\u001b[0;32m   1316\u001b[0m \u001b[43m        \u001b[49m\u001b[43mupsert\u001b[49m\u001b[43m,\u001b[49m\n\u001b[0;32m   1317\u001b[0m \u001b[43m        \u001b[49m\u001b[43mwrite_concern\u001b[49m\u001b[38;5;241;43m=\u001b[39;49m\u001b[43mwrite_concern\u001b[49m\u001b[43m,\u001b[49m\n\u001b[0;32m   1318\u001b[0m \u001b[43m        \u001b[49m\u001b[43mbypass_doc_val\u001b[49m\u001b[38;5;241;43m=\u001b[39;49m\u001b[43mbypass_document_validation\u001b[49m\u001b[43m,\u001b[49m\n\u001b[0;32m   1319\u001b[0m \u001b[43m        \u001b[49m\u001b[43mcollation\u001b[49m\u001b[38;5;241;43m=\u001b[39;49m\u001b[43mcollation\u001b[49m\u001b[43m,\u001b[49m\n\u001b[0;32m   1320\u001b[0m \u001b[43m        \u001b[49m\u001b[43marray_filters\u001b[49m\u001b[38;5;241;43m=\u001b[39;49m\u001b[43marray_filters\u001b[49m\u001b[43m,\u001b[49m\n\u001b[0;32m   1321\u001b[0m \u001b[43m        \u001b[49m\u001b[43mhint\u001b[49m\u001b[38;5;241;43m=\u001b[39;49m\u001b[43mhint\u001b[49m\u001b[43m,\u001b[49m\n\u001b[0;32m   1322\u001b[0m \u001b[43m        \u001b[49m\u001b[43msession\u001b[49m\u001b[38;5;241;43m=\u001b[39;49m\u001b[43msession\u001b[49m\u001b[43m,\u001b[49m\n\u001b[0;32m   1323\u001b[0m \u001b[43m        \u001b[49m\u001b[43mlet\u001b[49m\u001b[38;5;241;43m=\u001b[39;49m\u001b[43mlet\u001b[49m\u001b[43m,\u001b[49m\n\u001b[0;32m   1324\u001b[0m \u001b[43m        \u001b[49m\u001b[43mcomment\u001b[49m\u001b[38;5;241;43m=\u001b[39;49m\u001b[43mcomment\u001b[49m\u001b[43m,\u001b[49m\n\u001b[0;32m   1325\u001b[0m \u001b[43m    \u001b[49m\u001b[43m)\u001b[49m,\n\u001b[0;32m   1326\u001b[0m     write_concern\u001b[38;5;241m.\u001b[39macknowledged,\n\u001b[0;32m   1327\u001b[0m )\n",
      "File \u001b[1;32m~\\AppData\\Local\\Packages\\PythonSoftwareFoundation.Python.3.12_qbz5n2kfra8p0\\LocalCache\\local-packages\\Python312\\site-packages\\pymongo\\synchronous\\collection.py:1107\u001b[0m, in \u001b[0;36mCollection._update_retryable\u001b[1;34m(self, criteria, document, operation, upsert, multi, write_concern, op_id, ordered, bypass_doc_val, collation, array_filters, hint, session, let, comment)\u001b[0m\n\u001b[0;32m   1088\u001b[0m     \u001b[38;5;28;01mreturn\u001b[39;00m \u001b[38;5;28mself\u001b[39m\u001b[38;5;241m.\u001b[39m_update(\n\u001b[0;32m   1089\u001b[0m         conn,\n\u001b[0;32m   1090\u001b[0m         criteria,\n\u001b[1;32m   (...)\u001b[0m\n\u001b[0;32m   1104\u001b[0m         comment\u001b[38;5;241m=\u001b[39mcomment,\n\u001b[0;32m   1105\u001b[0m     )\n\u001b[1;32m-> 1107\u001b[0m \u001b[38;5;28;01mreturn\u001b[39;00m \u001b[38;5;28;43mself\u001b[39;49m\u001b[38;5;241;43m.\u001b[39;49m\u001b[43m_database\u001b[49m\u001b[38;5;241;43m.\u001b[39;49m\u001b[43mclient\u001b[49m\u001b[38;5;241;43m.\u001b[39;49m\u001b[43m_retryable_write\u001b[49m\u001b[43m(\u001b[49m\n\u001b[0;32m   1108\u001b[0m \u001b[43m    \u001b[49m\u001b[43m(\u001b[49m\u001b[43mwrite_concern\u001b[49m\u001b[43m \u001b[49m\u001b[38;5;129;43;01mor\u001b[39;49;00m\u001b[43m \u001b[49m\u001b[38;5;28;43mself\u001b[39;49m\u001b[38;5;241;43m.\u001b[39;49m\u001b[43mwrite_concern\u001b[49m\u001b[43m)\u001b[49m\u001b[38;5;241;43m.\u001b[39;49m\u001b[43macknowledged\u001b[49m\u001b[43m \u001b[49m\u001b[38;5;129;43;01mand\u001b[39;49;00m\u001b[43m \u001b[49m\u001b[38;5;129;43;01mnot\u001b[39;49;00m\u001b[43m \u001b[49m\u001b[43mmulti\u001b[49m\u001b[43m,\u001b[49m\n\u001b[0;32m   1109\u001b[0m \u001b[43m    \u001b[49m\u001b[43m_update\u001b[49m\u001b[43m,\u001b[49m\n\u001b[0;32m   1110\u001b[0m \u001b[43m    \u001b[49m\u001b[43msession\u001b[49m\u001b[43m,\u001b[49m\n\u001b[0;32m   1111\u001b[0m \u001b[43m    \u001b[49m\u001b[43moperation\u001b[49m\u001b[43m,\u001b[49m\n\u001b[0;32m   1112\u001b[0m \u001b[43m\u001b[49m\u001b[43m)\u001b[49m\n",
      "File \u001b[1;32m~\\AppData\\Local\\Packages\\PythonSoftwareFoundation.Python.3.12_qbz5n2kfra8p0\\LocalCache\\local-packages\\Python312\\site-packages\\pymongo\\synchronous\\mongo_client.py:1898\u001b[0m, in \u001b[0;36mMongoClient._retryable_write\u001b[1;34m(self, retryable, func, session, operation, bulk, operation_id)\u001b[0m\n\u001b[0;32m   1897\u001b[0m \u001b[38;5;28;01mwith\u001b[39;00m \u001b[38;5;28mself\u001b[39m\u001b[38;5;241m.\u001b[39m_tmp_session(session) \u001b[38;5;28;01mas\u001b[39;00m s:\n\u001b[1;32m-> 1898\u001b[0m     \u001b[38;5;28;01mreturn\u001b[39;00m \u001b[38;5;28;43mself\u001b[39;49m\u001b[38;5;241;43m.\u001b[39;49m\u001b[43m_retry_with_session\u001b[49m\u001b[43m(\u001b[49m\u001b[43mretryable\u001b[49m\u001b[43m,\u001b[49m\u001b[43m \u001b[49m\u001b[43mfunc\u001b[49m\u001b[43m,\u001b[49m\u001b[43m \u001b[49m\u001b[43ms\u001b[49m\u001b[43m,\u001b[49m\u001b[43m \u001b[49m\u001b[43mbulk\u001b[49m\u001b[43m,\u001b[49m\u001b[43m \u001b[49m\u001b[43moperation\u001b[49m\u001b[43m,\u001b[49m\u001b[43m \u001b[49m\u001b[43moperation_id\u001b[49m\u001b[43m)\u001b[49m\n",
      "File \u001b[1;32m~\\AppData\\Local\\Packages\\PythonSoftwareFoundation.Python.3.12_qbz5n2kfra8p0\\LocalCache\\local-packages\\Python312\\site-packages\\pymongo\\synchronous\\mongo_client.py:1784\u001b[0m, in \u001b[0;36mMongoClient._retry_with_session\u001b[1;34m(self, retryable, func, session, bulk, operation, operation_id)\u001b[0m\n\u001b[0;32m   1781\u001b[0m retryable \u001b[38;5;241m=\u001b[39m \u001b[38;5;28mbool\u001b[39m(\n\u001b[0;32m   1782\u001b[0m     retryable \u001b[38;5;129;01mand\u001b[39;00m \u001b[38;5;28mself\u001b[39m\u001b[38;5;241m.\u001b[39moptions\u001b[38;5;241m.\u001b[39mretry_writes \u001b[38;5;129;01mand\u001b[39;00m session \u001b[38;5;129;01mand\u001b[39;00m \u001b[38;5;129;01mnot\u001b[39;00m session\u001b[38;5;241m.\u001b[39min_transaction\n\u001b[0;32m   1783\u001b[0m )\n\u001b[1;32m-> 1784\u001b[0m \u001b[38;5;28;01mreturn\u001b[39;00m \u001b[38;5;28;43mself\u001b[39;49m\u001b[38;5;241;43m.\u001b[39;49m\u001b[43m_retry_internal\u001b[49m\u001b[43m(\u001b[49m\n\u001b[0;32m   1785\u001b[0m \u001b[43m    \u001b[49m\u001b[43mfunc\u001b[49m\u001b[38;5;241;43m=\u001b[39;49m\u001b[43mfunc\u001b[49m\u001b[43m,\u001b[49m\n\u001b[0;32m   1786\u001b[0m \u001b[43m    \u001b[49m\u001b[43msession\u001b[49m\u001b[38;5;241;43m=\u001b[39;49m\u001b[43msession\u001b[49m\u001b[43m,\u001b[49m\n\u001b[0;32m   1787\u001b[0m \u001b[43m    \u001b[49m\u001b[43mbulk\u001b[49m\u001b[38;5;241;43m=\u001b[39;49m\u001b[43mbulk\u001b[49m\u001b[43m,\u001b[49m\n\u001b[0;32m   1788\u001b[0m \u001b[43m    \u001b[49m\u001b[43moperation\u001b[49m\u001b[38;5;241;43m=\u001b[39;49m\u001b[43moperation\u001b[49m\u001b[43m,\u001b[49m\n\u001b[0;32m   1789\u001b[0m \u001b[43m    \u001b[49m\u001b[43mretryable\u001b[49m\u001b[38;5;241;43m=\u001b[39;49m\u001b[43mretryable\u001b[49m\u001b[43m,\u001b[49m\n\u001b[0;32m   1790\u001b[0m \u001b[43m    \u001b[49m\u001b[43moperation_id\u001b[49m\u001b[38;5;241;43m=\u001b[39;49m\u001b[43moperation_id\u001b[49m\u001b[43m,\u001b[49m\n\u001b[0;32m   1791\u001b[0m \u001b[43m\u001b[49m\u001b[43m)\u001b[49m\n",
      "File \u001b[1;32m~\\AppData\\Local\\Packages\\PythonSoftwareFoundation.Python.3.12_qbz5n2kfra8p0\\LocalCache\\local-packages\\Python312\\site-packages\\pymongo\\_csot.py:119\u001b[0m, in \u001b[0;36mapply.<locals>.csot_wrapper\u001b[1;34m(self, *args, **kwargs)\u001b[0m\n\u001b[0;32m    118\u001b[0m             \u001b[38;5;28;01mreturn\u001b[39;00m func(\u001b[38;5;28mself\u001b[39m, \u001b[38;5;241m*\u001b[39margs, \u001b[38;5;241m*\u001b[39m\u001b[38;5;241m*\u001b[39mkwargs)\n\u001b[1;32m--> 119\u001b[0m \u001b[38;5;28;01mreturn\u001b[39;00m \u001b[43mfunc\u001b[49m\u001b[43m(\u001b[49m\u001b[38;5;28;43mself\u001b[39;49m\u001b[43m,\u001b[49m\u001b[43m \u001b[49m\u001b[38;5;241;43m*\u001b[39;49m\u001b[43margs\u001b[49m\u001b[43m,\u001b[49m\u001b[43m \u001b[49m\u001b[38;5;241;43m*\u001b[39;49m\u001b[38;5;241;43m*\u001b[39;49m\u001b[43mkwargs\u001b[49m\u001b[43m)\u001b[49m\n",
      "File \u001b[1;32m~\\AppData\\Local\\Packages\\PythonSoftwareFoundation.Python.3.12_qbz5n2kfra8p0\\LocalCache\\local-packages\\Python312\\site-packages\\pymongo\\synchronous\\mongo_client.py:1830\u001b[0m, in \u001b[0;36mMongoClient._retry_internal\u001b[1;34m(self, func, session, bulk, operation, is_read, address, read_pref, retryable, operation_id)\u001b[0m\n\u001b[0;32m   1806\u001b[0m \u001b[38;5;250m\u001b[39m\u001b[38;5;124;03m\"\"\"Internal retryable helper for all client transactions.\u001b[39;00m\n\u001b[0;32m   1807\u001b[0m \n\u001b[0;32m   1808\u001b[0m \u001b[38;5;124;03m:param func: Callback function we want to retry\u001b[39;00m\n\u001b[1;32m   (...)\u001b[0m\n\u001b[0;32m   1817\u001b[0m \u001b[38;5;124;03m:return: Output of the calling func()\u001b[39;00m\n\u001b[0;32m   1818\u001b[0m \u001b[38;5;124;03m\"\"\"\u001b[39;00m\n\u001b[0;32m   1819\u001b[0m \u001b[38;5;28;01mreturn\u001b[39;00m \u001b[43m_ClientConnectionRetryable\u001b[49m\u001b[43m(\u001b[49m\n\u001b[0;32m   1820\u001b[0m \u001b[43m    \u001b[49m\u001b[43mmongo_client\u001b[49m\u001b[38;5;241;43m=\u001b[39;49m\u001b[38;5;28;43mself\u001b[39;49m\u001b[43m,\u001b[49m\n\u001b[0;32m   1821\u001b[0m \u001b[43m    \u001b[49m\u001b[43mfunc\u001b[49m\u001b[38;5;241;43m=\u001b[39;49m\u001b[43mfunc\u001b[49m\u001b[43m,\u001b[49m\n\u001b[0;32m   1822\u001b[0m \u001b[43m    \u001b[49m\u001b[43mbulk\u001b[49m\u001b[38;5;241;43m=\u001b[39;49m\u001b[43mbulk\u001b[49m\u001b[43m,\u001b[49m\n\u001b[0;32m   1823\u001b[0m \u001b[43m    \u001b[49m\u001b[43moperation\u001b[49m\u001b[38;5;241;43m=\u001b[39;49m\u001b[43moperation\u001b[49m\u001b[43m,\u001b[49m\n\u001b[0;32m   1824\u001b[0m \u001b[43m    \u001b[49m\u001b[43mis_read\u001b[49m\u001b[38;5;241;43m=\u001b[39;49m\u001b[43mis_read\u001b[49m\u001b[43m,\u001b[49m\n\u001b[0;32m   1825\u001b[0m \u001b[43m    \u001b[49m\u001b[43msession\u001b[49m\u001b[38;5;241;43m=\u001b[39;49m\u001b[43msession\u001b[49m\u001b[43m,\u001b[49m\n\u001b[0;32m   1826\u001b[0m \u001b[43m    \u001b[49m\u001b[43mread_pref\u001b[49m\u001b[38;5;241;43m=\u001b[39;49m\u001b[43mread_pref\u001b[49m\u001b[43m,\u001b[49m\n\u001b[0;32m   1827\u001b[0m \u001b[43m    \u001b[49m\u001b[43maddress\u001b[49m\u001b[38;5;241;43m=\u001b[39;49m\u001b[43maddress\u001b[49m\u001b[43m,\u001b[49m\n\u001b[0;32m   1828\u001b[0m \u001b[43m    \u001b[49m\u001b[43mretryable\u001b[49m\u001b[38;5;241;43m=\u001b[39;49m\u001b[43mretryable\u001b[49m\u001b[43m,\u001b[49m\n\u001b[0;32m   1829\u001b[0m \u001b[43m    \u001b[49m\u001b[43moperation_id\u001b[49m\u001b[38;5;241;43m=\u001b[39;49m\u001b[43moperation_id\u001b[49m\u001b[43m,\u001b[49m\n\u001b[1;32m-> 1830\u001b[0m \u001b[43m\u001b[49m\u001b[43m)\u001b[49m\u001b[38;5;241;43m.\u001b[39;49m\u001b[43mrun\u001b[49m\u001b[43m(\u001b[49m\u001b[43m)\u001b[49m\n",
      "File \u001b[1;32m~\\AppData\\Local\\Packages\\PythonSoftwareFoundation.Python.3.12_qbz5n2kfra8p0\\LocalCache\\local-packages\\Python312\\site-packages\\pymongo\\synchronous\\mongo_client.py:2554\u001b[0m, in \u001b[0;36m_ClientConnectionRetryable.run\u001b[1;34m(self)\u001b[0m\n\u001b[0;32m   2553\u001b[0m \u001b[38;5;28;01mtry\u001b[39;00m:\n\u001b[1;32m-> 2554\u001b[0m     \u001b[38;5;28;01mreturn\u001b[39;00m \u001b[38;5;28mself\u001b[39m\u001b[38;5;241m.\u001b[39m_read() \u001b[38;5;28;01mif\u001b[39;00m \u001b[38;5;28mself\u001b[39m\u001b[38;5;241m.\u001b[39m_is_read \u001b[38;5;28;01melse\u001b[39;00m \u001b[38;5;28;43mself\u001b[39;49m\u001b[38;5;241;43m.\u001b[39;49m\u001b[43m_write\u001b[49m\u001b[43m(\u001b[49m\u001b[43m)\u001b[49m\n\u001b[0;32m   2555\u001b[0m \u001b[38;5;28;01mexcept\u001b[39;00m ServerSelectionTimeoutError:\n\u001b[0;32m   2556\u001b[0m     \u001b[38;5;66;03m# The application may think the write was never attempted\u001b[39;00m\n\u001b[0;32m   2557\u001b[0m     \u001b[38;5;66;03m# if we raise ServerSelectionTimeoutError on the retry\u001b[39;00m\n\u001b[0;32m   2558\u001b[0m     \u001b[38;5;66;03m# attempt. Raise the original exception instead.\u001b[39;00m\n",
      "File \u001b[1;32m~\\AppData\\Local\\Packages\\PythonSoftwareFoundation.Python.3.12_qbz5n2kfra8p0\\LocalCache\\local-packages\\Python312\\site-packages\\pymongo\\synchronous\\mongo_client.py:2676\u001b[0m, in \u001b[0;36m_ClientConnectionRetryable._write\u001b[1;34m(self)\u001b[0m\n\u001b[0;32m   2675\u001b[0m             \u001b[38;5;28mself\u001b[39m\u001b[38;5;241m.\u001b[39m_retryable \u001b[38;5;241m=\u001b[39m \u001b[38;5;28;01mFalse\u001b[39;00m\n\u001b[1;32m-> 2676\u001b[0m         \u001b[38;5;28;01mreturn\u001b[39;00m \u001b[38;5;28;43mself\u001b[39;49m\u001b[38;5;241;43m.\u001b[39;49m\u001b[43m_func\u001b[49m\u001b[43m(\u001b[49m\u001b[38;5;28;43mself\u001b[39;49m\u001b[38;5;241;43m.\u001b[39;49m\u001b[43m_session\u001b[49m\u001b[43m,\u001b[49m\u001b[43m \u001b[49m\u001b[43mconn\u001b[49m\u001b[43m,\u001b[49m\u001b[43m \u001b[49m\u001b[38;5;28;43mself\u001b[39;49m\u001b[38;5;241;43m.\u001b[39;49m\u001b[43m_retryable\u001b[49m\u001b[43m)\u001b[49m  \u001b[38;5;66;03m# type: ignore\u001b[39;00m\n\u001b[0;32m   2677\u001b[0m \u001b[38;5;28;01mexcept\u001b[39;00m PyMongoError \u001b[38;5;28;01mas\u001b[39;00m exc:\n",
      "File \u001b[1;32m~\\AppData\\Local\\Packages\\PythonSoftwareFoundation.Python.3.12_qbz5n2kfra8p0\\LocalCache\\local-packages\\Python312\\site-packages\\pymongo\\synchronous\\collection.py:1088\u001b[0m, in \u001b[0;36mCollection._update_retryable.<locals>._update\u001b[1;34m(session, conn, retryable_write)\u001b[0m\n\u001b[0;32m   1085\u001b[0m \u001b[38;5;28;01mdef\u001b[39;00m \u001b[38;5;21m_update\u001b[39m(\n\u001b[0;32m   1086\u001b[0m     session: Optional[ClientSession], conn: Connection, retryable_write: \u001b[38;5;28mbool\u001b[39m\n\u001b[0;32m   1087\u001b[0m ) \u001b[38;5;241m-\u001b[39m\u001b[38;5;241m>\u001b[39m Optional[Mapping[\u001b[38;5;28mstr\u001b[39m, Any]]:\n\u001b[1;32m-> 1088\u001b[0m     \u001b[38;5;28;01mreturn\u001b[39;00m \u001b[38;5;28;43mself\u001b[39;49m\u001b[38;5;241;43m.\u001b[39;49m\u001b[43m_update\u001b[49m\u001b[43m(\u001b[49m\n\u001b[0;32m   1089\u001b[0m \u001b[43m        \u001b[49m\u001b[43mconn\u001b[49m\u001b[43m,\u001b[49m\n\u001b[0;32m   1090\u001b[0m \u001b[43m        \u001b[49m\u001b[43mcriteria\u001b[49m\u001b[43m,\u001b[49m\n\u001b[0;32m   1091\u001b[0m \u001b[43m        \u001b[49m\u001b[43mdocument\u001b[49m\u001b[43m,\u001b[49m\n\u001b[0;32m   1092\u001b[0m \u001b[43m        \u001b[49m\u001b[43mupsert\u001b[49m\u001b[38;5;241;43m=\u001b[39;49m\u001b[43mupsert\u001b[49m\u001b[43m,\u001b[49m\n\u001b[0;32m   1093\u001b[0m \u001b[43m        \u001b[49m\u001b[43mmulti\u001b[49m\u001b[38;5;241;43m=\u001b[39;49m\u001b[43mmulti\u001b[49m\u001b[43m,\u001b[49m\n\u001b[0;32m   1094\u001b[0m \u001b[43m        \u001b[49m\u001b[43mwrite_concern\u001b[49m\u001b[38;5;241;43m=\u001b[39;49m\u001b[43mwrite_concern\u001b[49m\u001b[43m,\u001b[49m\n\u001b[0;32m   1095\u001b[0m \u001b[43m        \u001b[49m\u001b[43mop_id\u001b[49m\u001b[38;5;241;43m=\u001b[39;49m\u001b[43mop_id\u001b[49m\u001b[43m,\u001b[49m\n\u001b[0;32m   1096\u001b[0m \u001b[43m        \u001b[49m\u001b[43mordered\u001b[49m\u001b[38;5;241;43m=\u001b[39;49m\u001b[43mordered\u001b[49m\u001b[43m,\u001b[49m\n\u001b[0;32m   1097\u001b[0m \u001b[43m        \u001b[49m\u001b[43mbypass_doc_val\u001b[49m\u001b[38;5;241;43m=\u001b[39;49m\u001b[43mbypass_doc_val\u001b[49m\u001b[43m,\u001b[49m\n\u001b[0;32m   1098\u001b[0m \u001b[43m        \u001b[49m\u001b[43mcollation\u001b[49m\u001b[38;5;241;43m=\u001b[39;49m\u001b[43mcollation\u001b[49m\u001b[43m,\u001b[49m\n\u001b[0;32m   1099\u001b[0m \u001b[43m        \u001b[49m\u001b[43marray_filters\u001b[49m\u001b[38;5;241;43m=\u001b[39;49m\u001b[43marray_filters\u001b[49m\u001b[43m,\u001b[49m\n\u001b[0;32m   1100\u001b[0m \u001b[43m        \u001b[49m\u001b[43mhint\u001b[49m\u001b[38;5;241;43m=\u001b[39;49m\u001b[43mhint\u001b[49m\u001b[43m,\u001b[49m\n\u001b[0;32m   1101\u001b[0m \u001b[43m        \u001b[49m\u001b[43msession\u001b[49m\u001b[38;5;241;43m=\u001b[39;49m\u001b[43msession\u001b[49m\u001b[43m,\u001b[49m\n\u001b[0;32m   1102\u001b[0m \u001b[43m        \u001b[49m\u001b[43mretryable_write\u001b[49m\u001b[38;5;241;43m=\u001b[39;49m\u001b[43mretryable_write\u001b[49m\u001b[43m,\u001b[49m\n\u001b[0;32m   1103\u001b[0m \u001b[43m        \u001b[49m\u001b[43mlet\u001b[49m\u001b[38;5;241;43m=\u001b[39;49m\u001b[43mlet\u001b[49m\u001b[43m,\u001b[49m\n\u001b[0;32m   1104\u001b[0m \u001b[43m        \u001b[49m\u001b[43mcomment\u001b[49m\u001b[38;5;241;43m=\u001b[39;49m\u001b[43mcomment\u001b[49m\u001b[43m,\u001b[49m\n\u001b[0;32m   1105\u001b[0m \u001b[43m    \u001b[49m\u001b[43m)\u001b[49m\n",
      "File \u001b[1;32m~\\AppData\\Local\\Packages\\PythonSoftwareFoundation.Python.3.12_qbz5n2kfra8p0\\LocalCache\\local-packages\\Python312\\site-packages\\pymongo\\synchronous\\collection.py:1040\u001b[0m, in \u001b[0;36mCollection._update\u001b[1;34m(self, conn, criteria, document, upsert, multi, write_concern, op_id, ordered, bypass_doc_val, collation, array_filters, hint, session, retryable_write, let, comment)\u001b[0m\n\u001b[0;32m   1037\u001b[0m \u001b[38;5;66;03m# The command result has to be published for APM unmodified\u001b[39;00m\n\u001b[0;32m   1038\u001b[0m \u001b[38;5;66;03m# so we make a shallow copy here before adding updatedExisting.\u001b[39;00m\n\u001b[0;32m   1039\u001b[0m result \u001b[38;5;241m=\u001b[39m (\n\u001b[1;32m-> 1040\u001b[0m     \u001b[43mconn\u001b[49m\u001b[38;5;241;43m.\u001b[39;49m\u001b[43mcommand\u001b[49m\u001b[43m(\u001b[49m\n\u001b[0;32m   1041\u001b[0m \u001b[43m        \u001b[49m\u001b[38;5;28;43mself\u001b[39;49m\u001b[38;5;241;43m.\u001b[39;49m\u001b[43m_database\u001b[49m\u001b[38;5;241;43m.\u001b[39;49m\u001b[43mname\u001b[49m\u001b[43m,\u001b[49m\n\u001b[0;32m   1042\u001b[0m \u001b[43m        \u001b[49m\u001b[43mcommand\u001b[49m\u001b[43m,\u001b[49m\n\u001b[0;32m   1043\u001b[0m \u001b[43m        \u001b[49m\u001b[43mwrite_concern\u001b[49m\u001b[38;5;241;43m=\u001b[39;49m\u001b[43mwrite_concern\u001b[49m\u001b[43m,\u001b[49m\n\u001b[0;32m   1044\u001b[0m \u001b[43m        \u001b[49m\u001b[43mcodec_options\u001b[49m\u001b[38;5;241;43m=\u001b[39;49m\u001b[38;5;28;43mself\u001b[39;49m\u001b[38;5;241;43m.\u001b[39;49m\u001b[43m_write_response_codec_options\u001b[49m\u001b[43m,\u001b[49m\n\u001b[0;32m   1045\u001b[0m \u001b[43m        \u001b[49m\u001b[43msession\u001b[49m\u001b[38;5;241;43m=\u001b[39;49m\u001b[43msession\u001b[49m\u001b[43m,\u001b[49m\n\u001b[0;32m   1046\u001b[0m \u001b[43m        \u001b[49m\u001b[43mclient\u001b[49m\u001b[38;5;241;43m=\u001b[39;49m\u001b[38;5;28;43mself\u001b[39;49m\u001b[38;5;241;43m.\u001b[39;49m\u001b[43m_database\u001b[49m\u001b[38;5;241;43m.\u001b[39;49m\u001b[43mclient\u001b[49m\u001b[43m,\u001b[49m\n\u001b[0;32m   1047\u001b[0m \u001b[43m        \u001b[49m\u001b[43mretryable_write\u001b[49m\u001b[38;5;241;43m=\u001b[39;49m\u001b[43mretryable_write\u001b[49m\u001b[43m,\u001b[49m\n\u001b[0;32m   1048\u001b[0m \u001b[43m    \u001b[49m\u001b[43m)\u001b[49m\n\u001b[0;32m   1049\u001b[0m )\u001b[38;5;241m.\u001b[39mcopy()\n\u001b[0;32m   1050\u001b[0m _check_write_command_response(result)\n",
      "File \u001b[1;32m~\\AppData\\Local\\Packages\\PythonSoftwareFoundation.Python.3.12_qbz5n2kfra8p0\\LocalCache\\local-packages\\Python312\\site-packages\\pymongo\\synchronous\\helpers.py:45\u001b[0m, in \u001b[0;36m_handle_reauth.<locals>.inner\u001b[1;34m(*args, **kwargs)\u001b[0m\n\u001b[0;32m     44\u001b[0m \u001b[38;5;28;01mtry\u001b[39;00m:\n\u001b[1;32m---> 45\u001b[0m     \u001b[38;5;28;01mreturn\u001b[39;00m \u001b[43mfunc\u001b[49m\u001b[43m(\u001b[49m\u001b[38;5;241;43m*\u001b[39;49m\u001b[43margs\u001b[49m\u001b[43m,\u001b[49m\u001b[43m \u001b[49m\u001b[38;5;241;43m*\u001b[39;49m\u001b[38;5;241;43m*\u001b[39;49m\u001b[43mkwargs\u001b[49m\u001b[43m)\u001b[49m\n\u001b[0;32m     46\u001b[0m \u001b[38;5;28;01mexcept\u001b[39;00m OperationFailure \u001b[38;5;28;01mas\u001b[39;00m exc:\n",
      "File \u001b[1;32m~\\AppData\\Local\\Packages\\PythonSoftwareFoundation.Python.3.12_qbz5n2kfra8p0\\LocalCache\\local-packages\\Python312\\site-packages\\pymongo\\synchronous\\pool.py:538\u001b[0m, in \u001b[0;36mConnection.command\u001b[1;34m(self, dbname, spec, read_preference, codec_options, check, allowable_errors, read_concern, write_concern, parse_write_concern_error, collation, session, client, retryable_write, publish_events, user_fields, exhaust_allowed)\u001b[0m\n\u001b[0;32m    537\u001b[0m \u001b[38;5;28;01mtry\u001b[39;00m:\n\u001b[1;32m--> 538\u001b[0m     \u001b[38;5;28;01mreturn\u001b[39;00m \u001b[43mcommand\u001b[49m\u001b[43m(\u001b[49m\n\u001b[0;32m    539\u001b[0m \u001b[43m        \u001b[49m\u001b[38;5;28;43mself\u001b[39;49m\u001b[43m,\u001b[49m\n\u001b[0;32m    540\u001b[0m \u001b[43m        \u001b[49m\u001b[43mdbname\u001b[49m\u001b[43m,\u001b[49m\n\u001b[0;32m    541\u001b[0m \u001b[43m        \u001b[49m\u001b[43mspec\u001b[49m\u001b[43m,\u001b[49m\n\u001b[0;32m    542\u001b[0m \u001b[43m        \u001b[49m\u001b[38;5;28;43mself\u001b[39;49m\u001b[38;5;241;43m.\u001b[39;49m\u001b[43mis_mongos\u001b[49m\u001b[43m,\u001b[49m\n\u001b[0;32m    543\u001b[0m \u001b[43m        \u001b[49m\u001b[43mread_preference\u001b[49m\u001b[43m,\u001b[49m\n\u001b[0;32m    544\u001b[0m \u001b[43m        \u001b[49m\u001b[43mcodec_options\u001b[49m\u001b[43m,\u001b[49m\n\u001b[0;32m    545\u001b[0m \u001b[43m        \u001b[49m\u001b[43msession\u001b[49m\u001b[43m,\u001b[49m\n\u001b[0;32m    546\u001b[0m \u001b[43m        \u001b[49m\u001b[43mclient\u001b[49m\u001b[43m,\u001b[49m\n\u001b[0;32m    547\u001b[0m \u001b[43m        \u001b[49m\u001b[43mcheck\u001b[49m\u001b[43m,\u001b[49m\n\u001b[0;32m    548\u001b[0m \u001b[43m        \u001b[49m\u001b[43mallowable_errors\u001b[49m\u001b[43m,\u001b[49m\n\u001b[0;32m    549\u001b[0m \u001b[43m        \u001b[49m\u001b[38;5;28;43mself\u001b[39;49m\u001b[38;5;241;43m.\u001b[39;49m\u001b[43maddress\u001b[49m\u001b[43m,\u001b[49m\n\u001b[0;32m    550\u001b[0m \u001b[43m        \u001b[49m\u001b[43mlisteners\u001b[49m\u001b[43m,\u001b[49m\n\u001b[0;32m    551\u001b[0m \u001b[43m        \u001b[49m\u001b[38;5;28;43mself\u001b[39;49m\u001b[38;5;241;43m.\u001b[39;49m\u001b[43mmax_bson_size\u001b[49m\u001b[43m,\u001b[49m\n\u001b[0;32m    552\u001b[0m \u001b[43m        \u001b[49m\u001b[43mread_concern\u001b[49m\u001b[43m,\u001b[49m\n\u001b[0;32m    553\u001b[0m \u001b[43m        \u001b[49m\u001b[43mparse_write_concern_error\u001b[49m\u001b[38;5;241;43m=\u001b[39;49m\u001b[43mparse_write_concern_error\u001b[49m\u001b[43m,\u001b[49m\n\u001b[0;32m    554\u001b[0m \u001b[43m        \u001b[49m\u001b[43mcollation\u001b[49m\u001b[38;5;241;43m=\u001b[39;49m\u001b[43mcollation\u001b[49m\u001b[43m,\u001b[49m\n\u001b[0;32m    555\u001b[0m \u001b[43m        \u001b[49m\u001b[43mcompression_ctx\u001b[49m\u001b[38;5;241;43m=\u001b[39;49m\u001b[38;5;28;43mself\u001b[39;49m\u001b[38;5;241;43m.\u001b[39;49m\u001b[43mcompression_context\u001b[49m\u001b[43m,\u001b[49m\n\u001b[0;32m    556\u001b[0m \u001b[43m        \u001b[49m\u001b[43muse_op_msg\u001b[49m\u001b[38;5;241;43m=\u001b[39;49m\u001b[38;5;28;43mself\u001b[39;49m\u001b[38;5;241;43m.\u001b[39;49m\u001b[43mop_msg_enabled\u001b[49m\u001b[43m,\u001b[49m\n\u001b[0;32m    557\u001b[0m \u001b[43m        \u001b[49m\u001b[43munacknowledged\u001b[49m\u001b[38;5;241;43m=\u001b[39;49m\u001b[43munacknowledged\u001b[49m\u001b[43m,\u001b[49m\n\u001b[0;32m    558\u001b[0m \u001b[43m        \u001b[49m\u001b[43muser_fields\u001b[49m\u001b[38;5;241;43m=\u001b[39;49m\u001b[43muser_fields\u001b[49m\u001b[43m,\u001b[49m\n\u001b[0;32m    559\u001b[0m \u001b[43m        \u001b[49m\u001b[43mexhaust_allowed\u001b[49m\u001b[38;5;241;43m=\u001b[39;49m\u001b[43mexhaust_allowed\u001b[49m\u001b[43m,\u001b[49m\n\u001b[0;32m    560\u001b[0m \u001b[43m        \u001b[49m\u001b[43mwrite_concern\u001b[49m\u001b[38;5;241;43m=\u001b[39;49m\u001b[43mwrite_concern\u001b[49m\u001b[43m,\u001b[49m\n\u001b[0;32m    561\u001b[0m \u001b[43m    \u001b[49m\u001b[43m)\u001b[49m\n\u001b[0;32m    562\u001b[0m \u001b[38;5;28;01mexcept\u001b[39;00m (OperationFailure, NotPrimaryError):\n",
      "File \u001b[1;32m~\\AppData\\Local\\Packages\\PythonSoftwareFoundation.Python.3.12_qbz5n2kfra8p0\\LocalCache\\local-packages\\Python312\\site-packages\\pymongo\\synchronous\\network.py:218\u001b[0m, in \u001b[0;36mcommand\u001b[1;34m(conn, dbname, spec, is_mongos, read_preference, codec_options, session, client, check, allowable_errors, address, listeners, max_bson_size, read_concern, parse_write_concern_error, collation, compression_ctx, use_op_msg, unacknowledged, user_fields, exhaust_allowed, write_concern)\u001b[0m\n\u001b[0;32m    217\u001b[0m         \u001b[38;5;28;01mif\u001b[39;00m check:\n\u001b[1;32m--> 218\u001b[0m             \u001b[43mhelpers_shared\u001b[49m\u001b[38;5;241;43m.\u001b[39;49m\u001b[43m_check_command_response\u001b[49m\u001b[43m(\u001b[49m\n\u001b[0;32m    219\u001b[0m \u001b[43m                \u001b[49m\u001b[43mresponse_doc\u001b[49m\u001b[43m,\u001b[49m\n\u001b[0;32m    220\u001b[0m \u001b[43m                \u001b[49m\u001b[43mconn\u001b[49m\u001b[38;5;241;43m.\u001b[39;49m\u001b[43mmax_wire_version\u001b[49m\u001b[43m,\u001b[49m\n\u001b[0;32m    221\u001b[0m \u001b[43m                \u001b[49m\u001b[43mallowable_errors\u001b[49m\u001b[43m,\u001b[49m\n\u001b[0;32m    222\u001b[0m \u001b[43m                \u001b[49m\u001b[43mparse_write_concern_error\u001b[49m\u001b[38;5;241;43m=\u001b[39;49m\u001b[43mparse_write_concern_error\u001b[49m\u001b[43m,\u001b[49m\n\u001b[0;32m    223\u001b[0m \u001b[43m            \u001b[49m\u001b[43m)\u001b[49m\n\u001b[0;32m    224\u001b[0m \u001b[38;5;28;01mexcept\u001b[39;00m \u001b[38;5;167;01mException\u001b[39;00m \u001b[38;5;28;01mas\u001b[39;00m exc:\n",
      "File \u001b[1;32m~\\AppData\\Local\\Packages\\PythonSoftwareFoundation.Python.3.12_qbz5n2kfra8p0\\LocalCache\\local-packages\\Python312\\site-packages\\pymongo\\helpers_shared.py:247\u001b[0m, in \u001b[0;36m_check_command_response\u001b[1;34m(response, max_wire_version, allowable_errors, parse_write_concern_error)\u001b[0m\n\u001b[0;32m    245\u001b[0m     \u001b[38;5;28;01mraise\u001b[39;00m CursorNotFound(errmsg, code, response, max_wire_version)\n\u001b[1;32m--> 247\u001b[0m \u001b[38;5;28;01mraise\u001b[39;00m OperationFailure(errmsg, code, response, max_wire_version)\n",
      "\u001b[1;31mOperationFailure\u001b[0m: Transaction numbers are only allowed on a replica set member or mongos, full error: {'ok': 0.0, 'errmsg': 'Transaction numbers are only allowed on a replica set member or mongos', 'code': 20, 'codeName': 'IllegalOperation'}",
      "\nDuring handling of the above exception, another exception occurred:\n",
      "\u001b[1;31mInvalidOperation\u001b[0m                          Traceback (most recent call last)",
      "Cell \u001b[1;32mIn[67], line 36\u001b[0m\n\u001b[0;32m     34\u001b[0m \u001b[38;5;28;01mexcept\u001b[39;00m \u001b[38;5;167;01mException\u001b[39;00m \u001b[38;5;28;01mas\u001b[39;00m e:\n\u001b[0;32m     35\u001b[0m     \u001b[38;5;28mprint\u001b[39m(\u001b[38;5;124mf\u001b[39m\u001b[38;5;124m\"\u001b[39m\u001b[38;5;124mTransaction aborted: \u001b[39m\u001b[38;5;132;01m{\u001b[39;00me\u001b[38;5;132;01m}\u001b[39;00m\u001b[38;5;124m\"\u001b[39m)\n\u001b[1;32m---> 36\u001b[0m     \u001b[43msession\u001b[49m\u001b[38;5;241;43m.\u001b[39;49m\u001b[43mabort_transaction\u001b[49m\u001b[43m(\u001b[49m\u001b[43m)\u001b[49m\n",
      "File \u001b[1;32m~\\AppData\\Local\\Packages\\PythonSoftwareFoundation.Python.3.12_qbz5n2kfra8p0\\LocalCache\\local-packages\\Python312\\site-packages\\pymongo\\synchronous\\client_session.py:821\u001b[0m, in \u001b[0;36mClientSession.abort_transaction\u001b[1;34m(self)\u001b[0m\n\u001b[0;32m    816\u001b[0m \u001b[38;5;28;01mdef\u001b[39;00m \u001b[38;5;21mabort_transaction\u001b[39m(\u001b[38;5;28mself\u001b[39m) \u001b[38;5;241m-\u001b[39m\u001b[38;5;241m>\u001b[39m \u001b[38;5;28;01mNone\u001b[39;00m:\n\u001b[0;32m    817\u001b[0m \u001b[38;5;250m    \u001b[39m\u001b[38;5;124;03m\"\"\"Abort a multi-statement transaction.\u001b[39;00m\n\u001b[0;32m    818\u001b[0m \n\u001b[0;32m    819\u001b[0m \u001b[38;5;124;03m    .. versionadded:: 3.7\u001b[39;00m\n\u001b[0;32m    820\u001b[0m \u001b[38;5;124;03m    \"\"\"\u001b[39;00m\n\u001b[1;32m--> 821\u001b[0m     \u001b[38;5;28;43mself\u001b[39;49m\u001b[38;5;241;43m.\u001b[39;49m\u001b[43m_check_ended\u001b[49m\u001b[43m(\u001b[49m\u001b[43m)\u001b[49m\n\u001b[0;32m    823\u001b[0m     state \u001b[38;5;241m=\u001b[39m \u001b[38;5;28mself\u001b[39m\u001b[38;5;241m.\u001b[39m_transaction\u001b[38;5;241m.\u001b[39mstate\n\u001b[0;32m    824\u001b[0m     \u001b[38;5;28;01mif\u001b[39;00m state \u001b[38;5;129;01mis\u001b[39;00m _TxnState\u001b[38;5;241m.\u001b[39mNONE:\n",
      "File \u001b[1;32m~\\AppData\\Local\\Packages\\PythonSoftwareFoundation.Python.3.12_qbz5n2kfra8p0\\LocalCache\\local-packages\\Python312\\site-packages\\pymongo\\synchronous\\client_session.py:542\u001b[0m, in \u001b[0;36mClientSession._check_ended\u001b[1;34m(self)\u001b[0m\n\u001b[0;32m    540\u001b[0m \u001b[38;5;28;01mdef\u001b[39;00m \u001b[38;5;21m_check_ended\u001b[39m(\u001b[38;5;28mself\u001b[39m) \u001b[38;5;241m-\u001b[39m\u001b[38;5;241m>\u001b[39m \u001b[38;5;28;01mNone\u001b[39;00m:\n\u001b[0;32m    541\u001b[0m     \u001b[38;5;28;01mif\u001b[39;00m \u001b[38;5;28mself\u001b[39m\u001b[38;5;241m.\u001b[39m_server_session \u001b[38;5;129;01mis\u001b[39;00m \u001b[38;5;28;01mNone\u001b[39;00m:\n\u001b[1;32m--> 542\u001b[0m         \u001b[38;5;28;01mraise\u001b[39;00m InvalidOperation(\u001b[38;5;124m\"\u001b[39m\u001b[38;5;124mCannot use ended session\u001b[39m\u001b[38;5;124m\"\u001b[39m)\n",
      "\u001b[1;31mInvalidOperation\u001b[0m: Cannot use ended session"
     ]
    }
   ],
   "source": [
    "# Example of atomic transactions.\n",
    "from pymongo import MongoClient\n",
    "from pymongo.errors import ConnectionFailure\n",
    "from bson import ObjectId\n",
    "\n",
    "# Set up connection (replace with your details)\n",
    "connection_string = \"mongodb://localhost:27017/\"\n",
    "client = MongoClient(connection_string)\n",
    "db_name = \"mydatabase\"\n",
    "db = client[db_name]\n",
    "collection_name = \"mycollection\"\n",
    "collection = db[collection_name]\n",
    "\n",
    "# Define documents IDs to update, replace with real object ids\n",
    "doc1_id = list(collection.find({\"name\":\"Laptop\"}))[0][\"_id\"]\n",
    "doc2_id = list(collection.find({\"name\":\"Headphones\"}))[0][\"_id\"]\n",
    "\n",
    "\n",
    "try:\n",
    "    with client.start_session() as session:\n",
    "        session.start_transaction()\n",
    "\n",
    "        # Update the Laptop price\n",
    "        collection.update_one({\"_id\": doc1_id}, {\"$set\": {\"price\": 1500}}, session=session)\n",
    "        # Update Headphones price\n",
    "        collection.update_one({\"_id\": doc2_id}, {\"$set\": {\"price\": 160}}, session=session)\n",
    "        # Insert a new transaction event\n",
    "        transaction_event = {\"type\":\"transaction\", \"description\":\"updated prices of laptop and headphones\"}\n",
    "        db[\"transactions\"].insert_one(transaction_event, session = session)\n",
    "\n",
    "        session.commit_transaction()\n",
    "        print(\"Transaction completed\")\n",
    "\n",
    "except Exception as e:\n",
    "    print(f\"Transaction aborted: {e}\")\n",
    "    session.abort_transaction()"
   ]
  },
  {
   "cell_type": "markdown",
   "metadata": {},
   "source": [
    "This section concludes the basics and some intermediate operations for using MongoDB with Python, such as inserting, querying, updating, deleting documents, using aggregations, projections, performing error handling, and implementing transactions. In the next sections, you will combine these concepts to create more complex and useful applications.\n",
    "\n",
    "\n",
    "\n",
    "Okay, let's move on to the fifth section: \"Hands-On Lab: Building a Data Pipeline with MongoDB\". In this section, you'll create a data pipeline that loads, transforms, and retrieves data using MongoDB and PyMongo.\n",
    "\n",
    "\n",
    "\n",
    "\n",
    "\n",
    "# MongoDB with Python: A Comprehensive Tutorial\n",
    "\n",
    "## 5. Hands-On Lab: Building a Data Pipeline with MongoDB\n",
    "\n",
    "### 5.1 Creating a Data Loading Script\n",
    "\n",
    "Let's create a script to load data from a CSV file into a MongoDB collection. We'll use the pandas library to read the CSV, and then PyMongo to add the data to the database."
   ]
  },
  {
   "cell_type": "code",
   "execution_count": 68,
   "metadata": {},
   "outputs": [
    {
     "name": "stdout",
     "output_type": "stream",
     "text": [
      "Successfully inserted 240 documents.\n",
      "Inserted IDs: [ObjectId('679658240e71066b1e313b28'), ObjectId('679658240e71066b1e313b29'), ObjectId('679658240e71066b1e313b2a'), ObjectId('679658240e71066b1e313b2b'), ObjectId('679658240e71066b1e313b2c'), ObjectId('679658240e71066b1e313b2d'), ObjectId('679658240e71066b1e313b2e'), ObjectId('679658240e71066b1e313b2f'), ObjectId('679658240e71066b1e313b30'), ObjectId('679658240e71066b1e313b31'), ObjectId('679658240e71066b1e313b32'), ObjectId('679658240e71066b1e313b33'), ObjectId('679658240e71066b1e313b34'), ObjectId('679658240e71066b1e313b35'), ObjectId('679658240e71066b1e313b36'), ObjectId('679658240e71066b1e313b37'), ObjectId('679658240e71066b1e313b38'), ObjectId('679658240e71066b1e313b39'), ObjectId('679658240e71066b1e313b3a'), ObjectId('679658240e71066b1e313b3b'), ObjectId('679658240e71066b1e313b3c'), ObjectId('679658240e71066b1e313b3d'), ObjectId('679658240e71066b1e313b3e'), ObjectId('679658240e71066b1e313b3f'), ObjectId('679658240e71066b1e313b40'), ObjectId('679658240e71066b1e313b41'), ObjectId('679658240e71066b1e313b42'), ObjectId('679658240e71066b1e313b43'), ObjectId('679658240e71066b1e313b44'), ObjectId('679658240e71066b1e313b45'), ObjectId('679658240e71066b1e313b46'), ObjectId('679658240e71066b1e313b47'), ObjectId('679658240e71066b1e313b48'), ObjectId('679658240e71066b1e313b49'), ObjectId('679658240e71066b1e313b4a'), ObjectId('679658240e71066b1e313b4b'), ObjectId('679658240e71066b1e313b4c'), ObjectId('679658240e71066b1e313b4d'), ObjectId('679658240e71066b1e313b4e'), ObjectId('679658240e71066b1e313b4f'), ObjectId('679658240e71066b1e313b50'), ObjectId('679658240e71066b1e313b51'), ObjectId('679658240e71066b1e313b52'), ObjectId('679658240e71066b1e313b53'), ObjectId('679658240e71066b1e313b54'), ObjectId('679658240e71066b1e313b55'), ObjectId('679658240e71066b1e313b56'), ObjectId('679658240e71066b1e313b57'), ObjectId('679658240e71066b1e313b58'), ObjectId('679658240e71066b1e313b59'), ObjectId('679658240e71066b1e313b5a'), ObjectId('679658240e71066b1e313b5b'), ObjectId('679658240e71066b1e313b5c'), ObjectId('679658240e71066b1e313b5d'), ObjectId('679658240e71066b1e313b5e'), ObjectId('679658240e71066b1e313b5f'), ObjectId('679658240e71066b1e313b60'), ObjectId('679658240e71066b1e313b61'), ObjectId('679658240e71066b1e313b62'), ObjectId('679658240e71066b1e313b63'), ObjectId('679658240e71066b1e313b64'), ObjectId('679658240e71066b1e313b65'), ObjectId('679658240e71066b1e313b66'), ObjectId('679658240e71066b1e313b67'), ObjectId('679658240e71066b1e313b68'), ObjectId('679658240e71066b1e313b69'), ObjectId('679658240e71066b1e313b6a'), ObjectId('679658240e71066b1e313b6b'), ObjectId('679658240e71066b1e313b6c'), ObjectId('679658240e71066b1e313b6d'), ObjectId('679658240e71066b1e313b6e'), ObjectId('679658240e71066b1e313b6f'), ObjectId('679658240e71066b1e313b70'), ObjectId('679658240e71066b1e313b71'), ObjectId('679658240e71066b1e313b72'), ObjectId('679658240e71066b1e313b73'), ObjectId('679658240e71066b1e313b74'), ObjectId('679658240e71066b1e313b75'), ObjectId('679658240e71066b1e313b76'), ObjectId('679658240e71066b1e313b77'), ObjectId('679658240e71066b1e313b78'), ObjectId('679658240e71066b1e313b79'), ObjectId('679658240e71066b1e313b7a'), ObjectId('679658240e71066b1e313b7b'), ObjectId('679658240e71066b1e313b7c'), ObjectId('679658240e71066b1e313b7d'), ObjectId('679658240e71066b1e313b7e'), ObjectId('679658240e71066b1e313b7f'), ObjectId('679658240e71066b1e313b80'), ObjectId('679658240e71066b1e313b81'), ObjectId('679658240e71066b1e313b82'), ObjectId('679658240e71066b1e313b83'), ObjectId('679658240e71066b1e313b84'), ObjectId('679658240e71066b1e313b85'), ObjectId('679658240e71066b1e313b86'), ObjectId('679658240e71066b1e313b87'), ObjectId('679658240e71066b1e313b88'), ObjectId('679658240e71066b1e313b89'), ObjectId('679658240e71066b1e313b8a'), ObjectId('679658240e71066b1e313b8b'), ObjectId('679658240e71066b1e313b8c'), ObjectId('679658240e71066b1e313b8d'), ObjectId('679658240e71066b1e313b8e'), ObjectId('679658240e71066b1e313b8f'), ObjectId('679658240e71066b1e313b90'), ObjectId('679658240e71066b1e313b91'), ObjectId('679658240e71066b1e313b92'), ObjectId('679658240e71066b1e313b93'), ObjectId('679658240e71066b1e313b94'), ObjectId('679658240e71066b1e313b95'), ObjectId('679658240e71066b1e313b96'), ObjectId('679658240e71066b1e313b97'), ObjectId('679658240e71066b1e313b98'), ObjectId('679658240e71066b1e313b99'), ObjectId('679658240e71066b1e313b9a'), ObjectId('679658240e71066b1e313b9b'), ObjectId('679658240e71066b1e313b9c'), ObjectId('679658240e71066b1e313b9d'), ObjectId('679658240e71066b1e313b9e'), ObjectId('679658240e71066b1e313b9f'), ObjectId('679658240e71066b1e313ba0'), ObjectId('679658240e71066b1e313ba1'), ObjectId('679658240e71066b1e313ba2'), ObjectId('679658240e71066b1e313ba3'), ObjectId('679658240e71066b1e313ba4'), ObjectId('679658240e71066b1e313ba5'), ObjectId('679658240e71066b1e313ba6'), ObjectId('679658240e71066b1e313ba7'), ObjectId('679658240e71066b1e313ba8'), ObjectId('679658240e71066b1e313ba9'), ObjectId('679658240e71066b1e313baa'), ObjectId('679658240e71066b1e313bab'), ObjectId('679658240e71066b1e313bac'), ObjectId('679658240e71066b1e313bad'), ObjectId('679658240e71066b1e313bae'), ObjectId('679658240e71066b1e313baf'), ObjectId('679658240e71066b1e313bb0'), ObjectId('679658240e71066b1e313bb1'), ObjectId('679658240e71066b1e313bb2'), ObjectId('679658240e71066b1e313bb3'), ObjectId('679658240e71066b1e313bb4'), ObjectId('679658240e71066b1e313bb5'), ObjectId('679658240e71066b1e313bb6'), ObjectId('679658240e71066b1e313bb7'), ObjectId('679658240e71066b1e313bb8'), ObjectId('679658240e71066b1e313bb9'), ObjectId('679658240e71066b1e313bba'), ObjectId('679658240e71066b1e313bbb'), ObjectId('679658240e71066b1e313bbc'), ObjectId('679658240e71066b1e313bbd'), ObjectId('679658240e71066b1e313bbe'), ObjectId('679658240e71066b1e313bbf'), ObjectId('679658240e71066b1e313bc0'), ObjectId('679658240e71066b1e313bc1'), ObjectId('679658240e71066b1e313bc2'), ObjectId('679658240e71066b1e313bc3'), ObjectId('679658240e71066b1e313bc4'), ObjectId('679658240e71066b1e313bc5'), ObjectId('679658240e71066b1e313bc6'), ObjectId('679658240e71066b1e313bc7'), ObjectId('679658240e71066b1e313bc8'), ObjectId('679658240e71066b1e313bc9'), ObjectId('679658240e71066b1e313bca'), ObjectId('679658240e71066b1e313bcb'), ObjectId('679658240e71066b1e313bcc'), ObjectId('679658240e71066b1e313bcd'), ObjectId('679658240e71066b1e313bce'), ObjectId('679658240e71066b1e313bcf'), ObjectId('679658240e71066b1e313bd0'), ObjectId('679658240e71066b1e313bd1'), ObjectId('679658240e71066b1e313bd2'), ObjectId('679658240e71066b1e313bd3'), ObjectId('679658240e71066b1e313bd4'), ObjectId('679658240e71066b1e313bd5'), ObjectId('679658240e71066b1e313bd6'), ObjectId('679658240e71066b1e313bd7'), ObjectId('679658240e71066b1e313bd8'), ObjectId('679658240e71066b1e313bd9'), ObjectId('679658240e71066b1e313bda'), ObjectId('679658240e71066b1e313bdb'), ObjectId('679658240e71066b1e313bdc'), ObjectId('679658240e71066b1e313bdd'), ObjectId('679658240e71066b1e313bde'), ObjectId('679658240e71066b1e313bdf'), ObjectId('679658240e71066b1e313be0'), ObjectId('679658240e71066b1e313be1'), ObjectId('679658240e71066b1e313be2'), ObjectId('679658240e71066b1e313be3'), ObjectId('679658240e71066b1e313be4'), ObjectId('679658240e71066b1e313be5'), ObjectId('679658240e71066b1e313be6'), ObjectId('679658240e71066b1e313be7'), ObjectId('679658240e71066b1e313be8'), ObjectId('679658240e71066b1e313be9'), ObjectId('679658240e71066b1e313bea'), ObjectId('679658240e71066b1e313beb'), ObjectId('679658240e71066b1e313bec'), ObjectId('679658240e71066b1e313bed'), ObjectId('679658240e71066b1e313bee'), ObjectId('679658240e71066b1e313bef'), ObjectId('679658240e71066b1e313bf0'), ObjectId('679658240e71066b1e313bf1'), ObjectId('679658240e71066b1e313bf2'), ObjectId('679658240e71066b1e313bf3'), ObjectId('679658240e71066b1e313bf4'), ObjectId('679658240e71066b1e313bf5'), ObjectId('679658240e71066b1e313bf6'), ObjectId('679658240e71066b1e313bf7'), ObjectId('679658240e71066b1e313bf8'), ObjectId('679658240e71066b1e313bf9'), ObjectId('679658240e71066b1e313bfa'), ObjectId('679658240e71066b1e313bfb'), ObjectId('679658240e71066b1e313bfc'), ObjectId('679658240e71066b1e313bfd'), ObjectId('679658240e71066b1e313bfe'), ObjectId('679658240e71066b1e313bff'), ObjectId('679658240e71066b1e313c00'), ObjectId('679658240e71066b1e313c01'), ObjectId('679658240e71066b1e313c02'), ObjectId('679658240e71066b1e313c03'), ObjectId('679658240e71066b1e313c04'), ObjectId('679658240e71066b1e313c05'), ObjectId('679658240e71066b1e313c06'), ObjectId('679658240e71066b1e313c07'), ObjectId('679658240e71066b1e313c08'), ObjectId('679658240e71066b1e313c09'), ObjectId('679658240e71066b1e313c0a'), ObjectId('679658240e71066b1e313c0b'), ObjectId('679658240e71066b1e313c0c'), ObjectId('679658240e71066b1e313c0d'), ObjectId('679658240e71066b1e313c0e'), ObjectId('679658240e71066b1e313c0f'), ObjectId('679658240e71066b1e313c10'), ObjectId('679658240e71066b1e313c11'), ObjectId('679658240e71066b1e313c12'), ObjectId('679658240e71066b1e313c13'), ObjectId('679658240e71066b1e313c14'), ObjectId('679658240e71066b1e313c15'), ObjectId('679658240e71066b1e313c16'), ObjectId('679658240e71066b1e313c17')]\n"
     ]
    }
   ],
   "source": [
    "import pandas as pd\n",
    "from pymongo import MongoClient\n",
    "\n",
    "# Load the sample data from a csv file\n",
    "data_url = \"https://raw.githubusercontent.com/plotly/datasets/master/2014_apple_stock.csv\"\n",
    "df = pd.read_csv(data_url)\n",
    "\n",
    "# Set up connection to MongoDB (replace with your details)\n",
    "connection_string = \"mongodb://localhost:27017/\"\n",
    "client = MongoClient(connection_string)\n",
    "db_name = \"mydatabase\"\n",
    "db = client[db_name]\n",
    "\n",
    "# Create or access an existing collection\n",
    "collection_name = \"apple_stock_data\"\n",
    "collection = db[collection_name]\n",
    "\n",
    "# Convert DataFrame to list of dictionaries and add it to the database\n",
    "try:\n",
    "  documents_to_insert = df.to_dict(\"records\")\n",
    "  result = collection.insert_many(documents_to_insert)\n",
    "  inserted_ids = result.inserted_ids\n",
    "  print(f\"Successfully inserted {len(inserted_ids)} documents.\")\n",
    "  print(f\"Inserted IDs: {inserted_ids}\")\n",
    "except Exception as e:\n",
    "  print(f\"Error inserting documents: {e}\")"
   ]
  },
  {
   "cell_type": "markdown",
   "metadata": {},
   "source": [
    "### 5.2 Implementing Data Transformation\n",
    "\n",
    "Now, let's implement a data transformation step, and add a new field to all the documents in the collection, by using a custom logic.\n"
   ]
  },
  {
   "cell_type": "code",
   "execution_count": 70,
   "metadata": {},
   "outputs": [
    {
     "name": "stdout",
     "output_type": "stream",
     "text": [
      "Updated 240 documents.\n",
      "{'_id': ObjectId('679658240e71066b1e313b28'), 'AAPL_x': '2014-01-02', 'AAPL_y': 77.44539475, 'daily_change': 67.44539475}\n",
      "{'_id': ObjectId('679658240e71066b1e313b29'), 'AAPL_x': '2014-01-03', 'AAPL_y': 77.04557544, 'daily_change': 67.04557544}\n",
      "{'_id': ObjectId('679658240e71066b1e313b2a'), 'AAPL_x': '2014-01-06', 'AAPL_y': 74.89697204, 'daily_change': 64.89697204}\n"
     ]
    }
   ],
   "source": [
    "from pymongo import MongoClient\n",
    "\n",
    "# Set up connection (replace with your details)\n",
    "connection_string = \"mongodb://localhost:27017/\"\n",
    "client = MongoClient(connection_string)\n",
    "db_name = \"mydatabase\"\n",
    "db = client[db_name]\n",
    "collection_name = \"apple_stock_data\"\n",
    "collection = db[collection_name]\n",
    "\n",
    "# Apply a custom data transformation and add a new field\n",
    "try:\n",
    "    # Define a processing function to transform the data\n",
    "    def transform_document(doc):\n",
    "      new_field = doc[\"AAPL_y\"] - 10\n",
    "      doc[\"daily_change\"] = new_field\n",
    "      return doc\n",
    "\n",
    "    # Get all the documents in the collection\n",
    "    documents = list(collection.find())\n",
    "    # Process all the documents\n",
    "    updated_documents = [transform_document(doc) for doc in documents]\n",
    "\n",
    "    # replace existing documents with the updated documents.\n",
    "    collection.delete_many({})\n",
    "    collection.insert_many(updated_documents)\n",
    "\n",
    "    print (f\"Updated {len(updated_documents)} documents.\")\n",
    "    # Check how the results look\n",
    "    for doc in list(collection.find())[:3]:\n",
    "        print(doc)\n",
    "except Exception as e:\n",
    "    print(f\"Error updating documents: {e}\")"
   ]
  },
  {
   "cell_type": "markdown",
   "metadata": {},
   "source": [
    "### 5.3 Developing a Retrieval System\n",
    "\n",
    "Now, let’s create a retrieval system that is capable of querying the database, and of retrieving information based on different criteria.\n"
   ]
  },
  {
   "cell_type": "code",
   "execution_count": 77,
   "metadata": {},
   "outputs": [
    {
     "name": "stdout",
     "output_type": "stream",
     "text": [
      "Results of the search with filter, projection, sort and limit:\n",
      "{'AAPL_x': '2014-12-12', 'AAPL_y': 110.0271393}\n",
      "{'AAPL_x': '2014-12-11', 'AAPL_y': 111.8174772}\n",
      "{'AAPL_x': '2014-12-10', 'AAPL_y': 113.9603314}\n",
      "{'AAPL_x': '2014-12-09', 'AAPL_y': 109.7554968}\n",
      "{'AAPL_x': '2014-12-08', 'AAPL_y': 113.6533452}\n",
      "\n",
      "Results of the search with filter only:\n",
      "{'AAPL_x': '2014-01-02', 'AAPL_y': 77.44539475}\n",
      "{'AAPL_x': '2014-01-03', 'AAPL_y': 77.04557544}\n",
      "{'AAPL_x': '2014-01-06', 'AAPL_y': 74.89697204}\n",
      "{'AAPL_x': '2014-01-07', 'AAPL_y': 75.856461}\n",
      "{'AAPL_x': '2014-01-08', 'AAPL_y': 75.09194679}\n",
      "\n",
      "First 3 elements:\n",
      "{'_id': ObjectId('679658240e71066b1e313b28'), 'AAPL_x': '2014-01-02', 'AAPL_y': 77.44539475, 'daily_change': 67.44539475}\n",
      "{'_id': ObjectId('679658240e71066b1e313b29'), 'AAPL_x': '2014-01-03', 'AAPL_y': 77.04557544, 'daily_change': 67.04557544}\n",
      "{'_id': ObjectId('679658240e71066b1e313b2a'), 'AAPL_x': '2014-01-06', 'AAPL_y': 74.89697204, 'daily_change': 64.89697204}\n"
     ]
    }
   ],
   "source": [
    "# Implement data retrieval from database with different filters\n",
    "from pymongo import MongoClient\n",
    "\n",
    "# Set up connection (replace with your details)\n",
    "connection_string = \"mongodb://localhost:27017/\"\n",
    "client = MongoClient(connection_string)\n",
    "db_name = \"mydatabase\"\n",
    "db = client[db_name]\n",
    "collection_name = \"apple_stock_data\"\n",
    "collection = db[collection_name]\n",
    "\n",
    "# Method to retrieve data\n",
    "def retrieve_data(collection, query, projection = None, sort_field = None, sort_direction= -1, limit = None):\n",
    "  if sort_field:\n",
    "        results = collection.find(query, projection).sort(sort_field, sort_direction).limit(limit)\n",
    "  else:\n",
    "       results = collection.find(query, projection).limit(limit)\n",
    "  return list(results)\n",
    "\n",
    "\n",
    "# Test retrieval system\n",
    "query = {\"AAPL_y\": {\"$gt\": 10}} # volume greater than 100000\n",
    "projection = {\"AAPL_x\": 1, \"AAPL_y\":1, \"_id\":0}\n",
    "sort_field = \"AAPL_x\"\n",
    "sort_direction = -1 #descending order\n",
    "limit = 5\n",
    "results = retrieve_data(collection, query, projection, sort_field, sort_direction, limit)\n",
    "print (\"Results of the search with filter, projection, sort and limit:\")\n",
    "for item in results:\n",
    "    print (item)\n",
    "\n",
    "# Test with just a filter\n",
    "query = {\"AAPL_y\": {\"$lt\": 20000}} # volume smaller than 200000\n",
    "results = retrieve_data(collection, query, projection,limit=limit)\n",
    "print (\"\\nResults of the search with filter only:\")\n",
    "for item in results:\n",
    "    print (item)\n",
    "\n",
    "\n",
    "# Test with just a limit\n",
    "results = retrieve_data(collection, {},  limit = 3)\n",
    "print (\"\\nFirst 3 elements:\")\n",
    "for item in results:\n",
    "    print (item)"
   ]
  },
  {
   "cell_type": "markdown",
   "metadata": {},
   "source": [
    "### 5.4 Testing and Evaluating Performance\n",
    "\n",
    "For a complete evaluation, you should perform different tests, and measure different metrics such as time for running a query, resources used by the system, and evaluate if the retrieved data is correct.\n"
   ]
  },
  {
   "cell_type": "code",
   "execution_count": 81,
   "metadata": {},
   "outputs": [
    {
     "name": "stdout",
     "output_type": "stream",
     "text": [
      "Time taken to retrieve 5 documents: 0.0030 seconds\n"
     ]
    }
   ],
   "source": [
    "import time\n",
    "# Test speed of retrieving and printing data.\n",
    "start = time.time()\n",
    "results = retrieve_data(collection, {}, projection={\"AAPL_x\": 1, \"AAPL_y\":1, \"_id\":0},limit=5)\n",
    "for item in results:\n",
    "   pass\n",
    "end = time.time()\n",
    "print (f\"Time taken to retrieve {len(results)} documents: {end - start:.4f} seconds\")"
   ]
  },
  {
   "cell_type": "markdown",
   "metadata": {},
   "source": [
    "This section provides you with a practical lab experience, that is designed to show you how to build your own data processing pipelines, load data from external files, transform it, and implement a retrieval system to access data from the MongoDB database, that you can use as a base for building more complex applications.\n",
    "\n",
    "\n",
    "\n",
    "\n",
    "Okay, let's proceed to the final section: \"Challenges, Best Practices, and Future Directions,\" where we'll discuss ethical considerations, scalability, robustness, security, and emerging trends for MongoDB and similar systems.\n",
    "\n",
    "\n",
    "\n",
    "\n",
    "# MongoDB with Python: A Comprehensive Tutorial\n",
    "\n",
    "## 6. Challenges, Best Practices, and Future Directions\n",
    "\n",
    "### 6.1 Scalability and Performance Optimization\n",
    "\n",
    "Designing for scalability and performance is crucial for any real-world application that uses databases.\n",
    "\n",
    "*   **Scalability Challenges in MongoDB:**\n",
    "    *   **Data Volume:** Handling extremely large datasets.\n",
    "    *   **Read/Write Loads:** Handling a large number of users performing read and write operations simultaneously.\n",
    "    *   **Query Complexity:** Processing complex queries that require aggregations and joins.\n",
    "    *  **Real-time Data:** Providing fast access to real-time data and live data streams.\n",
    "*  **Scalability and Performance Optimization Techniques:**\n",
    "    1.  **Sharding:**\n",
    "        *   **Mechanism:** Partition the database into smaller, manageable segments (shards) across multiple servers or nodes.\n",
    "        *   **Benefits:** Distributes data and workload, enabling higher throughput and handling very large datasets.\n",
    "        *   **Considerations:** Requires choosing a strategy for partitioning data (hash-based, range based), and implementing systems that route queries to the correct shard, while maintaining data consistency.\n",
    "    2.  **Replication:**\n",
    "        *   **Mechanism:** Create multiple copies of the data across different servers, for data availability and also for increasing the read speed.\n",
    "        *   **Benefits:** Improves data availability, prevents data loss, and improves read speed, allowing data to be read from different replicated databases simultaneously.\n",
    "        *   **Considerations:** Data must be consistent across all replicas, and it will also increase storage needs.\n",
    "    3.  **Indexing Strategies:**\n",
    "        *   **Mechanism:** Use indexes to speed up data retrieval on frequently queried fields.\n",
    "        *   **Benefits:** Improves search performance and reduces query processing time.\n",
    "        *   **Considerations:** Create indexes based on the queries used in the application, and be aware that indexes can increase write latency, and memory usage.\n",
    "    4.  **Query Optimization:**\n",
    "        *   **Mechanism:** Optimize the queries using techniques to make sure that they are fast, by selecting the specific fields needed, and by using specific options to filter data as fast as possible.\n",
    "        *   **Benefits:** Reduce query time, and minimize resource consumption.\n",
    "    5.  **Caching:**\n",
    "        *   **Mechanism:** Implement caching mechanisms to store results from frequently performed queries, or commonly accessed data in faster memory.\n",
    "        *  **Benefits:** Reduces access time for data that is accessed very often, and reduces the workload on the database.\n",
    "    6.  **Connection Pooling:**\n",
    "        *  **Mechanism:** Reuse database connections to avoid the overhead of opening and closing a new connection with each query, by creating a pool of already established database connections.\n",
    "        *  **Benefits:** Reduces the time for opening and closing connections and makes queries faster.\n",
    "    7.  **Read and Write Optimization:**\n",
    "        *   **Mechanism:** Separate read and write operations to different database nodes so they do not interfere with each other.\n",
    "        *   **Benefits:** Provides a way to balance the workload, and improve performance for both reads and writes.\n",
    "    8.  **Hardware Optimization:**\n",
    "        *  **Mechanism:** Use specialized hardware that is better at handling database operations (CPUs with more cores, fast memory, fast disks, optimized network).\n",
    "       *   **Benefits:** Improves processing speed, and reduces latency.\n",
    "    9.  **Monitoring:**\n",
    "        *  **Mechanism:** Monitor database performance, identify bottlenecks, and find opportunities for improvements.\n",
    "        *  **Benefits:** Allows you to act proactively and make changes before a problem occurs.\n",
    "    10. **Data Archiving:**\n",
    "         *   **Mechanism:** Move old or rarely used data to a less expensive storage solution, so that it does not use resources from more important areas.\n",
    "        *   **Benefits:** Improves the performance of the system by reducing the database size.\n",
    "\n",
    "### 6.2 Security Considerations\n",
    "\n",
    "Security is very important when creating applications that handle sensitive data. It’s important to consider security in all phases of design, development and deployment.\n",
    "\n",
    "*   **Key Security Considerations:**\n",
    "    *   **Authentication and Authorization:**\n",
    "        *   **Best Practice:** Implement authentication to verify user identity, and to control data access using granular authorization mechanisms, that define who can read, write, and modify data in the system.\n",
    "    *   **Data Encryption:**\n",
    "        *   **Best Practice:** Encrypt sensitive data both in transit (between the application and the database), and at rest (when it is stored), to prevent unauthorized access to sensitive information.\n",
    "    *   **Input Validation and Sanitization:**\n",
    "        *  **Best Practice:** Filter data at the input level to prevent injection attacks (like SQL injection) and other attacks that may be based on sending malicious data to the system.\n",
    "        *  **Technique:** Use methods to validate and sanitize data before using it to query or update the database.\n",
    "    *   **Access Control:**\n",
    "        *  **Best Practice:** Limit database access to only the resources that are required for each application, and to avoid granting access that is not necessary.\n",
    "    *   **Regular Auditing and Monitoring:**\n",
    "        *   **Best Practice:** Monitor the database activity for suspicious behavior, and also implement security audits to make sure that there are not any security flaws or exploits.\n",
    "    *   **Secure Configuration:**\n",
    "        *  **Best Practice:** Make sure that the database configuration is secure and is not prone to attack.\n",
    "    *  **Data Backup and Recovery:**\n",
    "         *  **Best Practice:** Make backups of all data, and create a solid procedure for recovering data when a security breach or a problem is identified.\n",
    "    *   **Use of Secure Protocols:**\n",
    "        *   **Best Practice:** Use secure protocols for client-server communication (TLS/SSL), and implement security measures when interacting with external APIs or external tools.\n",
    "    *   **Credential Management:**\n",
    "        *   **Best Practice:** Store connection strings, usernames and passwords using environment variables, key management systems or other tools for storing sensitive information, to prevent them from being exposed.\n",
    "    *   **Vulnerability Scanning:**\n",
    "        *   **Best Practice:** Use tools to scan your code for vulnerabilities, to identify and correct security flaws.\n",
    "    *   **Regular Software Updates:**\n",
    "        *   **Best Practice:** Keep all your software components up to date, by implementing a patch system for all software components.\n",
    "    *   **Principle of Least Privilege:**\n",
    "        *   **Best Practice:** Apply the principle of least privilege, which means that only the bare minimum required resources should be granted to each user, component, or API.\n",
    "\n",
    "### 6.3 Schema Design and Data Modeling\n",
    "\n",
    "Designing a database schema is a crucial step in creating efficient, scalable, and reliable applications.\n",
    "\n",
    "*   **Key Concepts in MongoDB Schema Design:**\n",
    "    *  **Flexible Documents:** Because MongoDB stores data in a JSON format, each document can have different data types, and it is not necessary to create a predefined schema for each collection.\n",
    "    *   **Embedded Documents:** Nested objects and arrays can be stored inside of a single document, which can be useful when dealing with complex data types.\n",
    "    *   **Denormalization:** Data can be duplicated in several places to minimize joins, and optimize queries for specific use cases, by using document denormalization.\n",
    "*  **Data Modeling Strategies:**\n",
    "    *   **Understand the Data:** Clearly understand your data, its size, its complexity, and the type of queries that will be used.\n",
    "    *  **Choose the Right Data Types:** Select data types that are appropriate to the information you are going to store, and understand their memory implications.\n",
    "    *  **Optimize for Queries:** The schema should be optimized for the main types of queries that will be performed to ensure that data can be retrieved with the minimum amount of resources and in the shortest possible time.\n",
    "    *   **Use Indexes:** Create indexes for frequently queried fields to improve search and retrieval times.\n",
    "    *   **Use Aggregations:** If you need to perform complex aggregations, you may need to optimize your schema to make that process more efficient.\n",
    "    *   **Performance Testing:** Test database performance and adjust your schema accordingly.\n",
    "    *   **Schema Evolution:** Plan for future changes in the data structure, and for how to handle new fields and new types of information.\n",
    "    *   **Data Validation:** Use techniques for validating data and for ensuring that the data is correct and consistent with your design.\n",
    "    *   **Scalability:** Design a schema that can scale with an increase in the amount of data, or the number of users.\n",
    "    *   **Security:** Implement security techniques that protect your data.\n",
    "\n",
    "### 6.4 Future Trends and Integration with AI/ML\n",
    "\n",
    "The future of MongoDB is related to emerging trends such as the use of AI and Machine Learning.\n",
    "\n",
    "*   **Future Trends:**\n",
    "    *   **AI and ML Integration:** Tighter integrations between MongoDB and AI/ML tools, for data preprocessing, feature engineering, model deployment, and other AI related tasks.\n",
    "    *   **Vector Search:** Improved support for vector search, embeddings, and other techniques used for building AI applications.\n",
    "    *   **Serverless and Cloud Native:** Increasing adoption of cloud-based and serverless databases, to provide higher availability and improved scalability.\n",
    "    *   **Real-Time Data:** Improved real-time data capabilities, including streaming, change data capture (CDC), and event handling.\n",
    "    *  **Edge Computing:** Support for use in edge computing environments where models are deployed closer to the data sources.\n",
    "    *  **Multi-Cloud Support:** Providing better support for use across different cloud platforms and vendors.\n",
    "    *   **Data Governance and Security:** Use better security, and data governance techniques.\n",
    "    *   **Improved Data Visualization:** Improved tools to visualize and analyze MongoDB data.\n",
    "    *   **Document Understanding:** New tools and APIs to perform better semantic analysis of data.\n",
    "    *   **Low Code and No Code:** More support for no-code and low-code development environments.\n",
    "    *   **Schema Evolution:** Automated methods for schema evolution, to allow new fields to be easily added or updated.\n",
    "    *   **Federated Databases:** Use federated databases and distributed technologies to improve access and processing of data from multiple different locations.\n",
    "    *   **Data Interoperability:** Improve interoperability, and the possibility to export and import data in different formats.\n",
    "\n",
    "This concludes the comprehensive tutorial on MongoDB. You now have the knowledge and tools to effectively work with MongoDB using Python, from basic concepts to advanced applications and considerations.\n",
    "\n"
   ]
  }
 ],
 "metadata": {
  "kernelspec": {
   "display_name": "Python 3",
   "language": "python",
   "name": "python3"
  },
  "language_info": {
   "codemirror_mode": {
    "name": "ipython",
    "version": 3
   },
   "file_extension": ".py",
   "mimetype": "text/x-python",
   "name": "python",
   "nbconvert_exporter": "python",
   "pygments_lexer": "ipython3",
   "version": "3.12.8"
  }
 },
 "nbformat": 4,
 "nbformat_minor": 4
}
